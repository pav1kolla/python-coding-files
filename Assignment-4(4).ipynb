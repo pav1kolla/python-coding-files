{
 "cells": [
  {
   "cell_type": "markdown",
   "id": "aaf70917",
   "metadata": {},
   "source": [
    "# 1. write a python program to loop through all the elements in a list"
   ]
  },
  {
   "cell_type": "code",
   "execution_count": 6,
   "id": "9d86f389",
   "metadata": {},
   "outputs": [
    {
     "name": "stdout",
     "output_type": "stream",
     "text": [
      "1\n",
      "2\n",
      "3\n",
      "4\n",
      "5\n",
      "6\n"
     ]
    }
   ],
   "source": [
    "list = [1,2,3,4,5,6]\n",
    "for x in list:\n",
    "    print(x)"
   ]
  },
  {
   "cell_type": "markdown",
   "id": "1b3d79d2",
   "metadata": {},
   "source": [
    "# 2. write a python program where you will ask the users to insert elements in a list"
   ]
  },
  {
   "cell_type": "code",
   "execution_count": 6,
   "id": "d40a9f50",
   "metadata": {},
   "outputs": [
    {
     "name": "stdout",
     "output_type": "stream",
     "text": [
      "enter the range 2\n",
      "enter the number  1\n",
      "enter the number  5\n",
      "[1, 5]\n"
     ]
    }
   ],
   "source": [
    "total=[]\n",
    "n = int(input(\"enter the range \"))\n",
    "for i in range(n):\n",
    "    num =int(input(\"enter the number  \"))\n",
    "    total.append(num)\n",
    "print(total)"
   ]
  },
  {
   "cell_type": "markdown",
   "id": "41ea14a2",
   "metadata": {},
   "source": [
    "# 3. write a python program to remove all the odd index value from a list and only even index elements should remain"
   ]
  },
  {
   "cell_type": "code",
   "execution_count": 8,
   "id": "78500196",
   "metadata": {},
   "outputs": [
    {
     "name": "stdout",
     "output_type": "stream",
     "text": [
      "enter the range 3\n",
      "enter the number  1\n",
      "enter the number  2\n",
      "enter the number  3\n",
      "[1, 2, 3]\n",
      "1\n",
      "3\n"
     ]
    }
   ],
   "source": [
    "total=[]\n",
    "n = int(input(\"enter the range \"))\n",
    "for i in range(n):\n",
    "    num =int(input(\"enter the number  \"))\n",
    "    total.append(num)\n",
    "print(total)\n",
    "for i in total:\n",
    "    if(total.index(i)%2==0):\n",
    "        print(i)"
   ]
  },
  {
   "cell_type": "markdown",
   "id": "fee06122",
   "metadata": {},
   "source": [
    "# 4. write a python program to sum and multiply all the items in a list"
   ]
  },
  {
   "cell_type": "code",
   "execution_count": 22,
   "id": "d74ece81",
   "metadata": {},
   "outputs": [
    {
     "name": "stdout",
     "output_type": "stream",
     "text": [
      "enter the range 4\n",
      "enter the number  1\n",
      "enter the number  2\n",
      "enter the number  3\n",
      "enter the number  4\n",
      "[1, 2, 3, 4]\n",
      "10\n",
      "24\n"
     ]
    }
   ],
   "source": [
    "total=[]\n",
    "n = int(input(\"enter the range \"))\n",
    "for i in range(n):\n",
    "    num =int(input(\"enter the number  \"))\n",
    "    total.append(num)\n",
    "print(total)\n",
    "s=0\n",
    "multi=1\n",
    "for i in total:\n",
    "    s+=i\n",
    "    multi*=i\n",
    "print(s)\n",
    "print(multi)"
   ]
  },
  {
   "cell_type": "markdown",
   "id": "ce6c13ed",
   "metadata": {},
   "source": [
    "# 5. write a python program to get the maximum and minimum numbers from a list"
   ]
  },
  {
   "cell_type": "code",
   "execution_count": 3,
   "id": "69a10dfb",
   "metadata": {},
   "outputs": [
    {
     "name": "stdout",
     "output_type": "stream",
     "text": [
      "90\n",
      "4\n"
     ]
    }
   ],
   "source": [
    "list=[8,4,11,7,90]\n",
    "print(max(list))\n",
    "print(min(list))"
   ]
  },
  {
   "cell_type": "markdown",
   "id": "840e1186",
   "metadata": {},
   "source": [
    "# 6. write a python program to print a specified list after removing the 0th, 4th and 5th elements."
   ]
  },
  {
   "cell_type": "code",
   "execution_count": 7,
   "id": "d94b985d",
   "metadata": {},
   "outputs": [
    {
     "name": "stdout",
     "output_type": "stream",
     "text": [
      "['Red', 'Green', 'White', 'Blank', 'pink', 'Yellow']\n",
      "['Red', 'pink', 'Yellow']\n"
     ]
    }
   ],
   "source": [
    "names=[\"Red\",\"Green\",\"White\",\"Blank\",\"pink\",\"Yellow\"]\n",
    "name=[]\n",
    "for i in range(len(names)):\n",
    "    if i==0 or i==4 or i==5:\n",
    "        name.append(names[i])\n",
    "print(names)\n",
    "print(name)"
   ]
  },
  {
   "cell_type": "markdown",
   "id": "b967d6d9",
   "metadata": {},
   "source": [
    "# 7.write a python program to convert a list of characters into string"
   ]
  },
  {
   "cell_type": "code",
   "execution_count": 10,
   "id": "241c4276",
   "metadata": {},
   "outputs": [],
   "source": [
    "x=[1,2,3,4,5]"
   ]
  },
  {
   "cell_type": "code",
   "execution_count": 11,
   "id": "81a859d2",
   "metadata": {},
   "outputs": [
    {
     "data": {
      "text/plain": [
       "list"
      ]
     },
     "execution_count": 11,
     "metadata": {},
     "output_type": "execute_result"
    }
   ],
   "source": [
    "type(x)"
   ]
  },
  {
   "cell_type": "code",
   "execution_count": 14,
   "id": "99ec70fc",
   "metadata": {},
   "outputs": [],
   "source": [
    "s=str(x)"
   ]
  },
  {
   "cell_type": "code",
   "execution_count": 15,
   "id": "4acd2f02",
   "metadata": {},
   "outputs": [
    {
     "data": {
      "text/plain": [
       "str"
      ]
     },
     "execution_count": 15,
     "metadata": {},
     "output_type": "execute_result"
    }
   ],
   "source": [
    "type(s)"
   ]
  },
  {
   "cell_type": "code",
   "execution_count": 16,
   "id": "6c919531",
   "metadata": {},
   "outputs": [
    {
     "name": "stdout",
     "output_type": "stream",
     "text": [
      "[1, 2, 3, 4, 5]\n"
     ]
    }
   ],
   "source": [
    "print(s)"
   ]
  },
  {
   "cell_type": "markdown",
   "id": "0d800d23",
   "metadata": {},
   "source": [
    "# 8. write a python program to compute average of given lists"
   ]
  },
  {
   "cell_type": "code",
   "execution_count": null,
   "id": "eba70704",
   "metadata": {},
   "outputs": [],
   "source": []
  },
  {
   "cell_type": "markdown",
   "id": "148a4408",
   "metadata": {},
   "source": [
    "# 9. write a python program to count integer in a given mixed list"
   ]
  },
  {
   "cell_type": "code",
   "execution_count": 11,
   "id": "bd7de335",
   "metadata": {},
   "outputs": [
    {
     "name": "stdout",
     "output_type": "stream",
     "text": [
      "3\n"
     ]
    }
   ],
   "source": [
    "list=[10,\"a\",2,3,5.5,1.34,\"Abc\",\"rt\"]\n",
    "count=0\n",
    "for i in list:\n",
    "    if type(i)==int:\n",
    "        count+=1\n",
    "print(count)"
   ]
  },
  {
   "cell_type": "markdown",
   "id": "f5004da1",
   "metadata": {},
   "source": [
    "# 10. write a python program to reverse the list"
   ]
  },
  {
   "cell_type": "code",
   "execution_count": 17,
   "id": "05921793",
   "metadata": {},
   "outputs": [],
   "source": [
    "list=[1,2,\"python\",45,6]\n",
    "list.reverse()"
   ]
  },
  {
   "cell_type": "code",
   "execution_count": 18,
   "id": "6beac92c",
   "metadata": {},
   "outputs": [
    {
     "data": {
      "text/plain": [
       "[6, 45, 'python', 2, 1]"
      ]
     },
     "execution_count": 18,
     "metadata": {},
     "output_type": "execute_result"
    }
   ],
   "source": [
    "list"
   ]
  },
  {
   "cell_type": "markdown",
   "id": "4c7da235",
   "metadata": {},
   "source": [
    "# 11. write a python program convert a given string to a tuple"
   ]
  },
  {
   "cell_type": "code",
   "execution_count": 1,
   "id": "91a28d83",
   "metadata": {},
   "outputs": [
    {
     "name": "stdout",
     "output_type": "stream",
     "text": [
      "enter the string  python java 2.o\n",
      "('p', 'y', 't', 'h', 'o', 'n', ' ', 'j', 'a', 'v', 'a', ' ', '2', '.', 'o')\n"
     ]
    }
   ],
   "source": [
    "string=input(\"enter the string  \")\n",
    "op=tuple(string)\n",
    "print(op)"
   ]
  },
  {
   "cell_type": "code",
   "execution_count": null,
   "id": "0ade4d1f",
   "metadata": {},
   "outputs": [],
   "source": []
  }
 ],
 "metadata": {
  "kernelspec": {
   "display_name": "Python 3 (ipykernel)",
   "language": "python",
   "name": "python3"
  },
  "language_info": {
   "codemirror_mode": {
    "name": "ipython",
    "version": 3
   },
   "file_extension": ".py",
   "mimetype": "text/x-python",
   "name": "python",
   "nbconvert_exporter": "python",
   "pygments_lexer": "ipython3",
   "version": "3.11.3"
  }
 },
 "nbformat": 4,
 "nbformat_minor": 5
}
