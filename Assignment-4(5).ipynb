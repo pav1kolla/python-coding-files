{
 "cells": [
  {
   "cell_type": "markdown",
   "id": "16cd0bcc",
   "metadata": {},
   "source": [
    "# 1. Given a list of numbers, write a python program that returns a new list which Has all duplicate elements removed. And is sorted in an increasing order."
   ]
  },
  {
   "cell_type": "code",
   "execution_count": 2,
   "id": "ab5c58d3",
   "metadata": {},
   "outputs": [
    {
     "name": "stdout",
     "output_type": "stream",
     "text": [
      "{1, 2, 3, 4, 7, 8, 9}\n"
     ]
    }
   ],
   "source": [
    "list = [2,1,3,4,2,3,3,2,7,9,8,7]\n",
    "x=set(list)\n",
    "print(x)"
   ]
  },
  {
   "cell_type": "markdown",
   "id": "83644a9b",
   "metadata": {},
   "source": [
    "# 2. Write a Python program where you will iterate over both keys and values in dictionaries"
   ]
  },
  {
   "cell_type": "code",
   "execution_count": 8,
   "id": "3d5dabc4",
   "metadata": {},
   "outputs": [
    {
     "name": "stdout",
     "output_type": "stream",
     "text": [
      "('python', 2)\n",
      "(2, 'java')\n",
      "(3, 'c')\n"
     ]
    }
   ],
   "source": [
    "var1={\"python\":2,2:\"java\",3:\"c\"}\n",
    "for i in var1.items():\n",
    "    print(i)"
   ]
  },
  {
   "cell_type": "markdown",
   "id": "ee97455d",
   "metadata": {},
   "source": [
    "# 3.Write a Python program that takes a dictionary of student names and returns a list of student names in alphabetical orde"
   ]
  },
  {
   "cell_type": "code",
   "execution_count": 15,
   "id": "dc108747",
   "metadata": {},
   "outputs": [
    {
     "name": "stdout",
     "output_type": "stream",
     "text": [
      "dict_values(['Tarun', 'Manoj', 'Gephi'])\n"
     ]
    }
   ],
   "source": [
    "list={\"student\":\"Tarun\",\"student2\":\"Manoj\",\"student3\":\"Gephi\"}\n",
    "x=list.values()\n",
    "print(x)"
   ]
  },
  {
   "cell_type": "markdown",
   "id": "51a6b405",
   "metadata": {},
   "source": [
    "# 4.Write a Python which returns a new list of Booleans, from a given number. Iterating through the number one digit at a time, append True if the digit is 1 and False if it is 0."
   ]
  },
  {
   "cell_type": "code",
   "execution_count": 31,
   "id": "6d06e9b7",
   "metadata": {},
   "outputs": [
    {
     "name": "stdout",
     "output_type": "stream",
     "text": [
      "True\n"
     ]
    }
   ],
   "source": [
    "string=\"01001\"\n",
    "x=string.split()\n",
    "bool1=bool(x)\n",
    "print(bool1)"
   ]
  },
  {
   "cell_type": "markdown",
   "id": "5e1f74ac",
   "metadata": {},
   "source": [
    "# 5. Write a Python program where you will return a dictionary where the keys will be the character and the values will be the occurrence of the character in the string, and it should for any string inputs (dynamic)"
   ]
  },
  {
   "cell_type": "code",
   "execution_count": null,
   "id": "b1219018",
   "metadata": {},
   "outputs": [],
   "source": []
  },
  {
   "cell_type": "markdown",
   "id": "cf4a3d6c",
   "metadata": {},
   "source": [
    "# 6. Given a dictionary containing the names and ages of a group of people, return the name of the oldest person"
   ]
  },
  {
   "cell_type": "code",
   "execution_count": 34,
   "id": "822e37cc",
   "metadata": {},
   "outputs": [
    {
     "ename": "TypeError",
     "evalue": "'>' not supported between instances of 'builtin_function_or_method' and 'int'",
     "output_type": "error",
     "traceback": [
      "\u001b[1;31m---------------------------------------------------------------------------\u001b[0m",
      "\u001b[1;31mTypeError\u001b[0m                                 Traceback (most recent call last)",
      "Cell \u001b[1;32mIn[34], line 2\u001b[0m\n\u001b[0;32m      1\u001b[0m d\u001b[38;5;241m=\u001b[39m{\u001b[38;5;124m\"\u001b[39m\u001b[38;5;124mTmma\u001b[39m\u001b[38;5;124m\"\u001b[39m:\u001b[38;5;241m41\u001b[39m,\u001b[38;5;124m\"\u001b[39m\u001b[38;5;124mAckes\u001b[39m\u001b[38;5;124m\"\u001b[39m:\u001b[38;5;241m45\u001b[39m,\u001b[38;5;124m\"\u001b[39m\u001b[38;5;124mmyna\u001b[39m\u001b[38;5;124m\"\u001b[39m:\u001b[38;5;241m15\u001b[39m,\u001b[38;5;124m\"\u001b[39m\u001b[38;5;124mBenthon\u001b[39m\u001b[38;5;124m\"\u001b[39m:\u001b[38;5;241m29\u001b[39m}\n\u001b[1;32m----> 2\u001b[0m \u001b[38;5;28;01mif\u001b[39;00m d\u001b[38;5;241m.\u001b[39mvalues \u001b[38;5;241m>\u001b[39m \u001b[38;5;241m41\u001b[39m:\n\u001b[0;32m      3\u001b[0m     \u001b[38;5;28mprint\u001b[39m(d\u001b[38;5;241m.\u001b[39mvalues)\n",
      "\u001b[1;31mTypeError\u001b[0m: '>' not supported between instances of 'builtin_function_or_method' and 'int'"
     ]
    }
   ],
   "source": [
    "d={\"Tmma\":41,\"Ackes\":45,\"myna\":15,\"Benthon\":29}\n",
    "if d.values > 41:\n",
    "    print(d.values)"
   ]
  },
  {
   "cell_type": "markdown",
   "id": "8f742ce3",
   "metadata": {},
   "source": [
    "# 7. Write a Python program to create a Rock, Paper, Scissor game, use two inputs for two players:Conditions: -Rock beats Scissors, Scissors beats Paper, Paper beats Rock"
   ]
  },
  {
   "cell_type": "code",
   "execution_count": 45,
   "id": "df4518bc",
   "metadata": {},
   "outputs": [
    {
     "name": "stdout",
     "output_type": "stream",
     "text": [
      "enter your option  rock\n",
      "enter your option2  scissors\n",
      "no.1 wins\n"
     ]
    }
   ],
   "source": [
    "num1=input(\"enter your option  \")\n",
    "num2=input(\"enter your option2  \")\n",
    "if ((num1==\"rock\") and (num2==\"scissors\")):\n",
    "    print(\"no.1 wins\")\n",
    "elif((num1==\"scissors\") and (num2==\"paper\")):\n",
    "    print(\"no.1 wins\")\n",
    "elif ((num1==\"paper\") and (num2==\"rock\")):\n",
    "    print(\"no.1 wins\")\n",
    "elif((num1==\"scissors\") and (num2==\"rock\")) :\n",
    "    print(\"no.2 wins\")\n",
    "elif((num1==\"papers\") and (num2==\"scissors\")):\n",
    "    print(\"no.2 wins\")\n",
    "elif((num1==\"rock\" and num2==\"papers\")):\n",
    "    print(\"no.2 wins\")\n",
    "else:\n",
    "    print(\"both options are same\")"
   ]
  },
  {
   "cell_type": "code",
   "execution_count": 46,
   "id": "3c1cdc0d",
   "metadata": {},
   "outputs": [
    {
     "name": "stdout",
     "output_type": "stream",
     "text": [
      "enter your option  rock\n",
      "enter your option2  papers\n",
      "no.2 wins\n"
     ]
    }
   ],
   "source": [
    "num1=input(\"enter your option  \")\n",
    "num2=input(\"enter your option2  \")\n",
    "if ((num1==\"rock\") and (num2==\"scissors\")):\n",
    "    print(\"no.1 wins\")\n",
    "elif((num1==\"scissors\") and (num2==\"paper\")):\n",
    "    print(\"no.1 wins\")\n",
    "elif ((num1==\"paper\") and (num2==\"rock\")):\n",
    "    print(\"no.1 wins\")\n",
    "elif((num1==\"scissors\") and (num2==\"rock\")) :\n",
    "    print(\"no.2 wins\")\n",
    "elif((num1==\"papers\") and (num2==\"scissors\")):\n",
    "    print(\"no.2 wins\")\n",
    "elif((num1==\"rock\" and num2==\"papers\")):\n",
    "    print(\"no.2 wins\")\n",
    "else:\n",
    "    print(\"both options are same\")"
   ]
  },
  {
   "cell_type": "code",
   "execution_count": 47,
   "id": "7438bd7a",
   "metadata": {},
   "outputs": [
    {
     "name": "stdout",
     "output_type": "stream",
     "text": [
      "enter your option  rock\n",
      "enter your option2  rock\n",
      "both options are same\n"
     ]
    }
   ],
   "source": [
    "num1=input(\"enter your option  \")\n",
    "num2=input(\"enter your option2  \")\n",
    "if ((num1==\"rock\") and (num2==\"scissors\")):\n",
    "    print(\"no.1 wins\")\n",
    "elif((num1==\"scissors\") and (num2==\"paper\")):\n",
    "    print(\"no.1 wins\")\n",
    "elif ((num1==\"paper\") and (num2==\"rock\")):\n",
    "    print(\"no.1 wins\")\n",
    "elif((num1==\"scissors\") and (num2==\"rock\")) :\n",
    "    print(\"no.2 wins\")\n",
    "elif((num1==\"papers\") and (num2==\"scissors\")):\n",
    "    print(\"no.2 wins\")\n",
    "elif((num1==\"rock\" and num2==\"papers\")):\n",
    "    print(\"no.2 wins\")\n",
    "else:\n",
    "    print(\"both options are same\")"
   ]
  },
  {
   "cell_type": "markdown",
   "id": "51f811ae",
   "metadata": {},
   "source": [
    "# 8. Create a program that returns a list of items that you can afford in the store with the money you have in your wallet. Create a dictionary with items as key and price as values"
   ]
  },
  {
   "cell_type": "code",
   "execution_count": null,
   "id": "02c8f68c",
   "metadata": {},
   "outputs": [],
   "source": []
  },
  {
   "cell_type": "markdown",
   "id": "45aff926",
   "metadata": {},
   "source": [
    "# 9. write a python program to create a union of sets"
   ]
  },
  {
   "cell_type": "code",
   "execution_count": 49,
   "id": "744bfc82",
   "metadata": {},
   "outputs": [
    {
     "data": {
      "text/plain": [
       "{1, 2, 3, 4, 5, 6, 52}"
      ]
     },
     "execution_count": 49,
     "metadata": {},
     "output_type": "execute_result"
    }
   ],
   "source": [
    "s1=set((1,2,3,4,5,6))\n",
    "s2=set((1,2,3,4,52))\n",
    "s1.union(s2)"
   ]
  },
  {
   "cell_type": "markdown",
   "id": "6973b0f4",
   "metadata": {},
   "source": [
    "# 10. Write a Python program to check if a given value is present in a set or not (Dynamic)"
   ]
  },
  {
   "cell_type": "code",
   "execution_count": null,
   "id": "d2ed8bdf",
   "metadata": {},
   "outputs": [],
   "source": []
  },
  {
   "cell_type": "markdown",
   "id": "a3349c31",
   "metadata": {},
   "source": [
    "# 11. Write a Python program to find the occurrences of 3 most common words in a given text. And make it as a dictionaries"
   ]
  },
  {
   "cell_type": "code",
   "execution_count": null,
   "id": "929a2354",
   "metadata": {},
   "outputs": [],
   "source": [
    "string=input(\"enter the string  \")\n",
    "x=string.split()\n",
    "count=0"
   ]
  },
  {
   "cell_type": "markdown",
   "id": "8b2e73cd",
   "metadata": {},
   "source": [
    "# 12. Write a Python program that accepts name of given subject and mark, and make subjects as keys in dictionaries and marks as values and print the final dictionary with subjects and marks"
   ]
  },
  {
   "cell_type": "code",
   "execution_count": null,
   "id": "6d67eec8",
   "metadata": {},
   "outputs": [],
   "source": [
    "\n"
   ]
  }
 ],
 "metadata": {
  "kernelspec": {
   "display_name": "Python 3 (ipykernel)",
   "language": "python",
   "name": "python3"
  },
  "language_info": {
   "codemirror_mode": {
    "name": "ipython",
    "version": 3
   },
   "file_extension": ".py",
   "mimetype": "text/x-python",
   "name": "python",
   "nbconvert_exporter": "python",
   "pygments_lexer": "ipython3",
   "version": "3.11.3"
  }
 },
 "nbformat": 4,
 "nbformat_minor": 5
}
