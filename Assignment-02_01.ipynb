{
 "cells": [
  {
   "cell_type": "code",
   "execution_count": 1,
   "id": "dd9aebfe",
   "metadata": {},
   "outputs": [],
   "source": [
    "# print small alphabets using whileloop()"
   ]
  },
  {
   "cell_type": "code",
   "execution_count": 10,
   "id": "de55a54e",
   "metadata": {},
   "outputs": [
    {
     "name": "stdout",
     "output_type": "stream",
     "text": [
      "*  * * *  *\n",
      "          *\n",
      "*  * * *  *\n",
      "*         *\n",
      "*  * * *  *\n"
     ]
    }
   ],
   "source": [
    "x=1\n",
    "while x<6:\n",
    "    if x==1:\n",
    "        print(\"*  * * *  *\")\n",
    "    elif x==2:\n",
    "        print(\"          *\")\n",
    "    elif x==3:\n",
    "        print(\"*  * * *  *\")\n",
    "    elif x==4:\n",
    "        print(\"*         *\")\n",
    "    else:\n",
    "        print(\"*  * * *  *\")\n",
    "    x=x+1"
   ]
  },
  {
   "cell_type": "code",
   "execution_count": 14,
   "id": "e63f8d8b",
   "metadata": {},
   "outputs": [
    {
     "name": "stdout",
     "output_type": "stream",
     "text": [
      "*         \n",
      "*         \n",
      "* * * * *\n",
      "*       *\n",
      "* * * * *\n"
     ]
    }
   ],
   "source": [
    "x=1\n",
    "while x<6:\n",
    "    if x==1:\n",
    "        print(\"*         \")\n",
    "    elif x==2:\n",
    "        print(\"*         \")\n",
    "    elif x==3:\n",
    "        print(\"* * * * *\")\n",
    "    elif x==4:\n",
    "        print(\"*       *\")\n",
    "    else:\n",
    "        print(\"* * * * *\")\n",
    "    x=x+1"
   ]
  },
  {
   "cell_type": "code",
   "execution_count": 15,
   "id": "ddd06da4",
   "metadata": {},
   "outputs": [
    {
     "name": "stdout",
     "output_type": "stream",
     "text": [
      "* * * *\n",
      "*\n",
      "*\n",
      "*\n",
      "* * * *\n"
     ]
    }
   ],
   "source": [
    "x=1\n",
    "while x<6:\n",
    "    if x==1:\n",
    "        print(\"* * * *\")\n",
    "    elif x==5 :\n",
    "            print(\"* * * *\")\n",
    "    else:\n",
    "            print(\"*\")\n",
    "    x=x+1"
   ]
  },
  {
   "cell_type": "code",
   "execution_count": 17,
   "id": "137396cd",
   "metadata": {},
   "outputs": [
    {
     "name": "stdout",
     "output_type": "stream",
     "text": [
      "         *\n",
      "         *\n",
      "* * * *  *\n",
      "*        *\n",
      "* * * *  *\n"
     ]
    }
   ],
   "source": [
    "x=1\n",
    "while x<6:\n",
    "    if x==1:\n",
    "        print(\"         *\")\n",
    "    elif x==2:\n",
    "        print(\"         *\")\n",
    "    elif x==3:\n",
    "        print(\"* * * *  *\")\n",
    "    elif x==4:\n",
    "        print(\"*        *\")\n",
    "    else:\n",
    "        print(\"* * * *  *\")\n",
    "    x=x+1"
   ]
  },
  {
   "cell_type": "code",
   "execution_count": 18,
   "id": "82d038e0",
   "metadata": {},
   "outputs": [
    {
     "name": "stdout",
     "output_type": "stream",
     "text": [
      "* * * * * \n",
      "*        *\n",
      "* * *  * *\n",
      "*         \n",
      "* * * * * \n"
     ]
    }
   ],
   "source": [
    " x=1\n",
    "while x<6:\n",
    "    if x==1:\n",
    "        print(\"* * * * * \")\n",
    "    elif x==2:\n",
    "        print(\"*        *\")\n",
    "    elif x==3:\n",
    "        print(\"* * *  * *\")\n",
    "    elif x==4:\n",
    "        print(\"*         \")\n",
    "    else:\n",
    "        print(\"* * * * * \")\n",
    "    x=x+1"
   ]
  },
  {
   "cell_type": "code",
   "execution_count": 38,
   "id": "9e28ece2",
   "metadata": {},
   "outputs": [
    {
     "name": "stdout",
     "output_type": "stream",
     "text": [
      "    *    \n",
      "  *    *\n",
      "  *         \n",
      "* * * * \n",
      "  *\n",
      "  *\n"
     ]
    }
   ],
   "source": [
    "x=1\n",
    "while x<7:\n",
    "    if x==1:\n",
    "        print(\"    *    \")\n",
    "    elif x==2:\n",
    "        print(\"  *    *\")\n",
    "    elif x==3:\n",
    "        print(\"  *         \")\n",
    "    elif x==4:\n",
    "        print(\"* * * * \")\n",
    "    else:\n",
    "        print(\"  *\")\n",
    "    x=x+1"
   ]
  },
  {
   "cell_type": "code",
   "execution_count": 50,
   "id": "0e5cc034",
   "metadata": {},
   "outputs": [
    {
     "name": "stdout",
     "output_type": "stream",
     "text": [
      "  * * * *     \n",
      "*       *\n",
      "* * * * *\n",
      "        *\n",
      "*       *\n",
      "* * * * *\n"
     ]
    }
   ],
   "source": [
    "x=1\n",
    "while x<7:\n",
    "    if x==1:\n",
    "        print(\"  * * * *     \")\n",
    "    elif x==2:\n",
    "        print(\"*       *\")\n",
    "    elif x==3:\n",
    "        print(\"* * * * *\")\n",
    "    elif x==4:\n",
    "        print(\"        *\")\n",
    "    elif x==5:\n",
    "        print(\"*       *\")\n",
    "    else:\n",
    "        print(\"* * * * *\")\n",
    "    x=x+1"
   ]
  },
  {
   "cell_type": "code",
   "execution_count": 51,
   "id": "e1441571",
   "metadata": {},
   "outputs": [
    {
     "name": "stdout",
     "output_type": "stream",
     "text": [
      "*         \n",
      "*         \n",
      "* * * * *\n",
      "*       *\n",
      "*       *\n"
     ]
    }
   ],
   "source": [
    "x=1\n",
    "while x<6:\n",
    "    if x==1:\n",
    "        print(\"*         \")\n",
    "    elif x==2:\n",
    "        print(\"*         \")\n",
    "    elif x==3:\n",
    "        print(\"* * * * *\")\n",
    "    elif x==4:\n",
    "        print(\"*       *\")\n",
    "    else:\n",
    "        print(\"*       *\")\n",
    "    x=x+1"
   ]
  },
  {
   "cell_type": "code",
   "execution_count": 6,
   "id": "f4c3594f",
   "metadata": {},
   "outputs": [
    {
     "name": "stdout",
     "output_type": "stream",
     "text": [
      "    *     \n",
      "          \n",
      "    *     \n",
      "    *    \n",
      "    *    \n"
     ]
    }
   ],
   "source": [
    "x=1\n",
    "while x<6:\n",
    "    if x==1:\n",
    "        print(\"    *     \")\n",
    "    elif x==2:\n",
    "        print(\"          \")\n",
    "    elif x==3:\n",
    "        print(\"    *     \")\n",
    "    elif x==4:\n",
    "        print(\"    *    \")\n",
    "    else:\n",
    "        print(\"    *    \")\n",
    "    x=x+1"
   ]
  },
  {
   "cell_type": "code",
   "execution_count": 3,
   "id": "7768d5d7",
   "metadata": {},
   "outputs": [
    {
     "name": "stdout",
     "output_type": "stream",
     "text": [
      "* * * * *\n",
      "    *    \n",
      "    *    \n",
      "*   *    \n",
      "* * *    \n"
     ]
    }
   ],
   "source": [
    "x=1\n",
    "while x<6:\n",
    "    if x==1:\n",
    "        print(\"* * * * *\")\n",
    "    elif x==2 or x==3:\n",
    "        print(\"    *    \")\n",
    "    elif x==4:\n",
    "        print(\"*   *    \")\n",
    "    else:\n",
    "        print(\"* * *    \")\n",
    "    x=x+1"
   ]
  },
  {
   "cell_type": "code",
   "execution_count": 4,
   "id": "fdeef1ac",
   "metadata": {},
   "outputs": [
    {
     "name": "stdout",
     "output_type": "stream",
     "text": [
      "*    *\n",
      "*  *\n",
      "* *\n",
      "*  *\n",
      "*   *\n"
     ]
    }
   ],
   "source": [
    "x=1\n",
    "while x<6:\n",
    "    if x==1:\n",
    "        print(\"*    *\")\n",
    "    elif x==2 or x==4:\n",
    "        print(\"*  *\")\n",
    "    elif   x==5:\n",
    "            print(\"*   *\")\n",
    "    else:\n",
    "            print(\"* *\")\n",
    "    x=x+1"
   ]
  },
  {
   "cell_type": "code",
   "execution_count": 5,
   "id": "2b4a438d",
   "metadata": {},
   "outputs": [
    {
     "name": "stdout",
     "output_type": "stream",
     "text": [
      "    *     \n",
      "    *     \n",
      "    *     \n",
      "    *    \n",
      "    *    \n"
     ]
    }
   ],
   "source": [
    "x=1\n",
    "while x<6:\n",
    "    if x==1:\n",
    "        print(\"    *     \")\n",
    "    elif x==2:\n",
    "        print(\"    *     \")\n",
    "    elif x==3:\n",
    "        print(\"    *     \")\n",
    "    elif x==4:\n",
    "        print(\"    *    \")\n",
    "    else:\n",
    "        print(\"    *    \")\n",
    "    x=x+1"
   ]
  },
  {
   "cell_type": "code",
   "execution_count": 10,
   "id": "eb4b5c33",
   "metadata": {},
   "outputs": [
    {
     "name": "stdout",
     "output_type": "stream",
     "text": [
      " *        * \n",
      "*  *   *   *\n",
      "*    *     *\n",
      "*          *\n",
      "*          *\n"
     ]
    }
   ],
   "source": [
    "x=1\n",
    "while x<6:\n",
    "    if x==1:\n",
    "        print(\" *        * \")\n",
    "    elif x==2:\n",
    "        print(\"*  *   *   *\")\n",
    "    elif x==3:\n",
    "        print(\"*    *     *\")\n",
    "    elif x==4:\n",
    "        print(\"*          *\")\n",
    "    else:\n",
    "        print(\"*          *\")\n",
    "    x=x+1"
   ]
  },
  {
   "cell_type": "code",
   "execution_count": 12,
   "id": "d19b7a9e",
   "metadata": {},
   "outputs": [
    {
     "name": "stdout",
     "output_type": "stream",
     "text": [
      " * * * * \n",
      "*       *\n",
      "*       *\n",
      "*       *\n",
      "\n"
     ]
    }
   ],
   "source": [
    "x=1\n",
    "while x<6:\n",
    "    if x==1:\n",
    "        print(\" * * * * \")\n",
    "    elif x==2 or x== 3 or x==4:\n",
    "        print(\"*       *\")\n",
    "    else:\n",
    "        print(\"\")\n",
    "    x=x+1"
   ]
  },
  {
   "cell_type": "code",
   "execution_count": 22,
   "id": "e5a6548b",
   "metadata": {},
   "outputs": [
    {
     "name": "stdout",
     "output_type": "stream",
     "text": [
      "\n",
      "  * *   \n",
      "*     *\n",
      "*     *\n",
      "  * *   \n"
     ]
    }
   ],
   "source": [
    "x=1\n",
    "while x<6:\n",
    "    if x==1:\n",
    "        print(\"\")\n",
    "    elif   x==3 or x==4:\n",
    "            print(\"*     *\")\n",
    "    else:\n",
    "            print(\"  * *   \")\n",
    "    x=x+1"
   ]
  },
  {
   "cell_type": "code",
   "execution_count": 26,
   "id": "58843c3a",
   "metadata": {},
   "outputs": [
    {
     "name": "stdout",
     "output_type": "stream",
     "text": [
      "* * * *  \n",
      "*      *\n",
      "* * * * \n",
      "*        \n",
      "*        \n"
     ]
    }
   ],
   "source": [
    "x=1\n",
    "while x<6:\n",
    "    if x==1:\n",
    "        print(\"* * * *  \")\n",
    "    elif x==2:\n",
    "        print(\"*      *\")\n",
    "    elif x==3:\n",
    "        print(\"* * * * \")\n",
    "    elif x==4:\n",
    "        print(\"*        \")\n",
    "    else:\n",
    "        print(\"*        \")\n",
    "    x=x+1"
   ]
  },
  {
   "cell_type": "code",
   "execution_count": 47,
   "id": "1f2bba60",
   "metadata": {},
   "outputs": [
    {
     "name": "stdout",
     "output_type": "stream",
     "text": [
      "        *\n",
      "  * * * * \n",
      " *      *\n",
      "  * * * *\n",
      "        *\n",
      "        *\n"
     ]
    }
   ],
   "source": [
    "x=1\n",
    "while x<7:\n",
    "    if x==1:\n",
    "        print(\"        *\")\n",
    "    elif x==2:\n",
    "        print(\"  * * * * \")\n",
    "    elif x==3:\n",
    "        print(\" *      *\")\n",
    "    elif x==4 :\n",
    "        print(\"  * * * *\")\n",
    "    else:\n",
    "        print(\"        *\")\n",
    "    x=x+1"
   ]
  },
  {
   "cell_type": "code",
   "execution_count": 87,
   "id": "35d9965d",
   "metadata": {},
   "outputs": [
    {
     "name": "stdout",
     "output_type": "stream",
     "text": [
      " *      *\n",
      "   *  *  \n",
      "  *   * \n",
      "  * * *  \n"
     ]
    }
   ],
   "source": [
    "x=1\n",
    "while x<5:\n",
    "    if x==1:\n",
    "         print(\" *      *\")\n",
    "    elif x==2:\n",
    "        print(\"   *  *  \")\n",
    "    elif x==3:\n",
    "        print(\"  *   * \")\n",
    "    else:\n",
    "        print(\"  * * *  \")\n",
    "    x=x+1"
   ]
  },
  {
   "cell_type": "code",
   "execution_count": 130,
   "id": "fca9562d",
   "metadata": {},
   "outputs": [
    {
     "name": "stdout",
     "output_type": "stream",
     "text": [
      "  * * *     \n",
      "*         \n",
      "*  * *   \n",
      "      *\n",
      " * * *  \n"
     ]
    }
   ],
   "source": [
    "x=1\n",
    "while x<6:\n",
    "    if x==1:\n",
    "        print(\"  * * *     \")\n",
    "    elif x==2:\n",
    "         print(\"*         \")\n",
    "    elif x==3:\n",
    "        print(\"*  * *   \")\n",
    "    elif x==4 :\n",
    "        print(\"      *\")\n",
    "    elif x==5:\n",
    "        print(\" * * *  \")\n",
    "    else:\n",
    "        print(\"*  *   *  \")\n",
    "    x=x+1"
   ]
  },
  {
   "cell_type": "code",
   "execution_count": 114,
   "id": "8844590a",
   "metadata": {},
   "outputs": [
    {
     "name": "stdout",
     "output_type": "stream",
     "text": [
      "   *    \n",
      "   *    \n",
      "* * * * \n",
      "   *    \n",
      "   * * * \n"
     ]
    }
   ],
   "source": [
    "x=1\n",
    "while x<6:\n",
    "    if x==1:\n",
    "        print(\"   *    \")\n",
    "    elif x==2:\n",
    "        print(\"   *    \")\n",
    "    elif x==3:\n",
    "        print(\"* * * * \")\n",
    "    elif x==4:\n",
    "        print(\"   *    \")\n",
    "    else:\n",
    "        print(\"   * * * \")\n",
    "    x=x+1"
   ]
  },
  {
   "cell_type": "code",
   "execution_count": 122,
   "id": "fc5f2cda",
   "metadata": {},
   "outputs": [
    {
     "name": "stdout",
     "output_type": "stream",
     "text": [
      " *      *\n",
      " *      *\n",
      " *      *\n",
      "  * * * \n",
      "\n"
     ]
    }
   ],
   "source": [
    "x=1\n",
    "while x<6:\n",
    "    if x==1:\n",
    "        print(\" *      *\")\n",
    "    elif x==2:\n",
    "        print( \" *      *\")\n",
    "    elif x==3:\n",
    "        print(\" *      *\")\n",
    "    elif x==4:\n",
    "        print(\"  * * * \")\n",
    "    else:\n",
    "        print(\"\")\n",
    "    x=x+1"
   ]
  },
  {
   "cell_type": "code",
   "execution_count": 123,
   "id": "59b3f320",
   "metadata": {},
   "outputs": [
    {
     "name": "stdout",
     "output_type": "stream",
     "text": [
      "*      *\n",
      " *    * \n",
      "  *  *  \n",
      "   *    \n"
     ]
    }
   ],
   "source": [
    "x=1\n",
    "while x<5:\n",
    "    if x==1:\n",
    "        print(\"*      *\")\n",
    "    elif x==2:\n",
    "        print(\" *    * \")\n",
    "    elif x==3:\n",
    "        print(\"  *  *  \")\n",
    "    else:\n",
    "        print(\"   *    \")\n",
    "    x=x+1"
   ]
  },
  {
   "cell_type": "code",
   "execution_count": 124,
   "id": "34228a35",
   "metadata": {},
   "outputs": [
    {
     "name": "stdout",
     "output_type": "stream",
     "text": [
      "*        *\n",
      "*        *\n",
      "*    *   *\n",
      "*  *  *  *\n",
      " *      *\n"
     ]
    }
   ],
   "source": [
    "x=1\n",
    "while x<6:\n",
    "    if x==1:\n",
    "        print(\"*        *\")\n",
    "    elif x==2:\n",
    "        print(\"*        *\")\n",
    "    elif x==3:\n",
    "        print(\"*    *   *\")\n",
    "    elif x==4:\n",
    "        print(\"*  *  *  *\")\n",
    "    else:\n",
    "        print(\" *      *\")\n",
    "    x=x+1"
   ]
  },
  {
   "cell_type": "code",
   "execution_count": 125,
   "id": "e09bbd0f",
   "metadata": {},
   "outputs": [
    {
     "name": "stdout",
     "output_type": "stream",
     "text": [
      "*       *\n",
      "  *   *  \n",
      "    *    \n",
      "  *  *   \n",
      "*       *\n"
     ]
    }
   ],
   "source": [
    "x=1\n",
    "while x<6:\n",
    "    if x==1:\n",
    "        print(\"*       *\")\n",
    "    elif x==2:\n",
    "        print(\"  *   *  \")\n",
    "    elif x==3:\n",
    "        print(\"    *    \")\n",
    "    elif x==4:\n",
    "        print(\"  *  *   \")\n",
    "    else:\n",
    "        print(\"*       *\")\n",
    "    x=x+1"
   ]
  },
  {
   "cell_type": "code",
   "execution_count": 128,
   "id": "91eaf6ce",
   "metadata": {},
   "outputs": [
    {
     "name": "stdout",
     "output_type": "stream",
     "text": [
      "*       *\n",
      "  *   *  \n",
      "    *    \n",
      "   *      \n",
      " *        \n"
     ]
    }
   ],
   "source": [
    "x=1\n",
    "while x<6:\n",
    "    if x==1:\n",
    "        print(\"*       *\")\n",
    "    elif x==2:\n",
    "        print(\"  *   *  \")\n",
    "    elif x==3:\n",
    "        print(\"    *    \")\n",
    "    elif x==4:\n",
    "        print(\"   *      \")\n",
    "    else:\n",
    "        print(\" *        \")\n",
    "    x=x+1"
   ]
  },
  {
   "cell_type": "code",
   "execution_count": 129,
   "id": "43f4964c",
   "metadata": {},
   "outputs": [
    {
     "name": "stdout",
     "output_type": "stream",
     "text": [
      "* * * *\n",
      "   *   \n",
      " *     \n",
      "* * * *\n"
     ]
    }
   ],
   "source": [
    "x=1\n",
    "while x<5:\n",
    "    if x==1:\n",
    "        print(\"* * * *\")\n",
    "    elif x==2:\n",
    "        print(\"   *   \")\n",
    "    elif x==3:\n",
    "        print(\" *     \")\n",
    "    elif x==4:\n",
    "        print(\"* * * *\")\n",
    "    else:\n",
    "        print(\"\")\n",
    "    x=x+1"
   ]
  },
  {
   "cell_type": "code",
   "execution_count": null,
   "id": "dd315cb4",
   "metadata": {},
   "outputs": [],
   "source": []
  }
 ],
 "metadata": {
  "kernelspec": {
   "display_name": "Python 3 (ipykernel)",
   "language": "python",
   "name": "python3"
  },
  "language_info": {
   "codemirror_mode": {
    "name": "ipython",
    "version": 3
   },
   "file_extension": ".py",
   "mimetype": "text/x-python",
   "name": "python",
   "nbconvert_exporter": "python",
   "pygments_lexer": "ipython3",
   "version": "3.11.3"
  }
 },
 "nbformat": 4,
 "nbformat_minor": 5
}
