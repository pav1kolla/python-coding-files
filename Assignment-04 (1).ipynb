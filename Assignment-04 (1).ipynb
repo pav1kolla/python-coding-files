{
 "cells": [
  {
   "cell_type": "code",
   "execution_count": 6,
   "id": "0cc176ad",
   "metadata": {},
   "outputs": [
    {
     "name": "stdout",
     "output_type": "stream",
     "text": [
      "1\n",
      "2 2\n",
      "3 3 3\n",
      "4 4 4 4\n",
      "5 5 5 5 5\n"
     ]
    }
   ],
   "source": [
    "x=1\n",
    "while x<=5:\n",
    "    if x==1:\n",
    "        print(\"1\")\n",
    "    elif x==2:\n",
    "        print(\"2 2\")\n",
    "    elif x==3:\n",
    "        print(\"3 3 3\")\n",
    "    elif x==4:\n",
    "        print(\"4 4 4 4\")\n",
    "    else:\n",
    "        print(\"5 5 5 5 5\")\n",
    "    x=x+1"
   ]
  },
  {
   "cell_type": "code",
   "execution_count": 5,
   "id": "cb3b48f1",
   "metadata": {},
   "outputs": [
    {
     "name": "stdout",
     "output_type": "stream",
     "text": [
      "1\n",
      "1 2\n",
      "1 2 3\n",
      "1 2 3 4\n",
      "1 2 3 4 5\n"
     ]
    }
   ],
   "source": [
    "x=1\n",
    "while x<=5:\n",
    "    if x==1:\n",
    "        print(\"1\")\n",
    "    elif x==2:\n",
    "        print(\"1 2\")\n",
    "    elif x==3:\n",
    "        print(\"1 2 3\")\n",
    "    elif x==4:\n",
    "        print(\"1 2 3 4\")\n",
    "    else:\n",
    "        print(\"1 2 3 4 5\")\n",
    "    x=x+1"
   ]
  },
  {
   "cell_type": "code",
   "execution_count": 7,
   "id": "4f431430",
   "metadata": {},
   "outputs": [
    {
     "name": "stdout",
     "output_type": "stream",
     "text": [
      "1 1 1 1 1\n",
      "2 2 2 2\n",
      "3 3 3\n",
      "4 4\n",
      "5\n"
     ]
    }
   ],
   "source": [
    "x=1\n",
    "while x<=5:\n",
    "    if x==1:\n",
    "        print(\"1 1 1 1 1\")\n",
    "    elif x==2:\n",
    "        print(\"2 2 2 2\")\n",
    "    elif x==3:\n",
    "        print(\"3 3 3\")\n",
    "    elif x==4:\n",
    "        print(\"4 4\")\n",
    "    else:\n",
    "        print(\"5\")\n",
    "    x=x+1"
   ]
  },
  {
   "cell_type": "code",
   "execution_count": 8,
   "id": "9d13a0ea",
   "metadata": {},
   "outputs": [
    {
     "name": "stdout",
     "output_type": "stream",
     "text": [
      "5 5 5 5 5\n",
      "5 5 5 5\n",
      "5 5 5\n",
      "5 5\n",
      "5\n"
     ]
    }
   ],
   "source": [
    "x=1\n",
    "while x<=5:\n",
    "    if x==1:\n",
    "        print(\"5 5 5 5 5\")\n",
    "    elif x==2:\n",
    "        print(\"5 5 5 5\")\n",
    "    elif x==3:\n",
    "        print(\"5 5 5\")\n",
    "    elif x==4:\n",
    "        print(\"5 5\")\n",
    "    else:\n",
    "        print(\"5\")\n",
    "    x=x+1"
   ]
  },
  {
   "cell_type": "code",
   "execution_count": 11,
   "id": "30439934",
   "metadata": {},
   "outputs": [
    {
     "name": "stdout",
     "output_type": "stream",
     "text": [
      "0 1 2 3 4 5\n",
      "0 1 2 3 4\n",
      "0 1 2 3\n",
      "0 1 2\n",
      "0 1\n"
     ]
    }
   ],
   "source": [
    "x=1\n",
    "while x<=5:\n",
    "    if x==1:\n",
    "        print(\"0 1 2 3 4 5\")\n",
    "    elif x==2:\n",
    "        print(\"0 1 2 3 4\")\n",
    "    elif x==3:\n",
    "        print(\"0 1 2 3\")\n",
    "    elif x==4:\n",
    "        print(\"0 1 2\")\n",
    "    else:\n",
    "        print(\"0 1\")\n",
    "    x=x+1"
   ]
  },
  {
   "cell_type": "code",
   "execution_count": 12,
   "id": "e2c1d954",
   "metadata": {},
   "outputs": [
    {
     "name": "stdout",
     "output_type": "stream",
     "text": [
      "1\n",
      "3 3\n",
      "5 5 5\n",
      "7 7 7 7\n",
      "9 9 9 9 9\n"
     ]
    }
   ],
   "source": [
    "x=1\n",
    "while x<=5:\n",
    "    if x==1:\n",
    "        print(\"1\")\n",
    "    elif x==2:\n",
    "        print(\"3 3\")\n",
    "    elif x==3:\n",
    "        print(\"5 5 5\")\n",
    "    elif x==4:\n",
    "        print(\"7 7 7 7\")\n",
    "    else:\n",
    "        print(\"9 9 9 9 9\")\n",
    "    x=x+1"
   ]
  },
  {
   "cell_type": "code",
   "execution_count": 16,
   "id": "692aef75",
   "metadata": {},
   "outputs": [
    {
     "name": "stdout",
     "output_type": "stream",
     "text": [
      "5 5 5 5 5\n",
      "4 4 4 4\n",
      "3 3 3\n",
      "2 2\n",
      "1\n"
     ]
    }
   ],
   "source": [
    "x=1\n",
    "while x<=5:\n",
    "    if x==1:\n",
    "        print(\"5 5 5 5 5\")\n",
    "    elif x==2:\n",
    "        print(\"4 4 4 4\")\n",
    "    elif x==3:\n",
    "        print(\"3 3 3\")\n",
    "    elif x==4:\n",
    "        print(\"2 2\")\n",
    "    else:\n",
    "        print(\"1\")\n",
    "    x=x+1"
   ]
  },
  {
   "cell_type": "code",
   "execution_count": 17,
   "id": "103ffbfb",
   "metadata": {},
   "outputs": [
    {
     "name": "stdout",
     "output_type": "stream",
     "text": [
      "1\n",
      "2 1\n",
      "3 2 1\n",
      "4 3 2 1\n",
      "5 4 3 2 1\n"
     ]
    }
   ],
   "source": [
    "x=1\n",
    "while x<=5:\n",
    "    if x==1:\n",
    "        print(\"1\")\n",
    "    elif x==2:\n",
    "        print(\"2 1\")\n",
    "    elif x==3:\n",
    "        print(\"3 2 1\")\n",
    "    elif x==4:\n",
    "        print(\"4 3 2 1\")\n",
    "    else:\n",
    "        print(\"5 4 3 2 1\")\n",
    "    x=x+1"
   ]
  },
  {
   "cell_type": "code",
   "execution_count": 18,
   "id": "ffec3f56",
   "metadata": {},
   "outputs": [
    {
     "name": "stdout",
     "output_type": "stream",
     "text": [
      "5 4 3 2 1\n",
      "4 3 2 1\n",
      "3 2 1\n",
      "2 1\n",
      "1\n"
     ]
    }
   ],
   "source": [
    "x=1\n",
    "while x<=5:\n",
    "    if x==1:\n",
    "        print(\"5 4 3 2 1\")\n",
    "    elif x==2:\n",
    "        print(\"4 3 2 1\")\n",
    "    elif x==3:\n",
    "        print(\"3 2 1\")\n",
    "    elif x==4:\n",
    "        print(\"2 1\")\n",
    "    else:\n",
    "        print(\"1\")\n",
    "    x=x+1"
   ]
  },
  {
   "cell_type": "code",
   "execution_count": 19,
   "id": "fab7fa7d",
   "metadata": {},
   "outputs": [
    {
     "name": "stdout",
     "output_type": "stream",
     "text": [
      "1\n",
      "3 2\n",
      "6 5 4\n",
      "10 9 8 7\n",
      "\n"
     ]
    }
   ],
   "source": [
    "x=1\n",
    "while x<=5:\n",
    "    if x==1:\n",
    "        print(\"1\")\n",
    "    elif x==2:\n",
    "        print(\"3 2\")\n",
    "    elif x==3:\n",
    "        print(\"6 5 4\")\n",
    "    elif x==4:\n",
    "        print(\"10 9 8 7\")\n",
    "    else:\n",
    "        print(\"\")\n",
    "    x=x+1"
   ]
  },
  {
   "cell_type": "code",
   "execution_count": 22,
   "id": "6d565faf",
   "metadata": {},
   "outputs": [
    {
     "name": "stdout",
     "output_type": "stream",
     "text": [
      "        1\n",
      "      1 2\n",
      "    1 2 3\n",
      "  1 2 3 4\n",
      "1 2 3 4 5\n"
     ]
    }
   ],
   "source": [
    "x=1\n",
    "while x<=5:\n",
    "    if x==1:\n",
    "        print(\"        1\")\n",
    "    elif x==2:\n",
    "        print(\"      1 2\")\n",
    "    elif x==3:\n",
    "        print(\"    1 2 3\")\n",
    "    elif x==4:\n",
    "        print(\"  1 2 3 4\")\n",
    "    else:\n",
    "        print(\"1 2 3 4 5\")\n",
    "    x=x+1"
   ]
  },
  {
   "cell_type": "code",
   "execution_count": 23,
   "id": "ab5f5468",
   "metadata": {},
   "outputs": [
    {
     "name": "stdout",
     "output_type": "stream",
     "text": [
      "1\n",
      "4 1\n",
      "1 2 1\n",
      "1 3 3 1\n",
      "1 4 6 4 1\n",
      "1 5 10 10 5 1\n",
      "1 6 15 20 15 6 1\n"
     ]
    }
   ],
   "source": [
    "x=1\n",
    "while x<=7:\n",
    "    if x==1:\n",
    "        print(\"1\")\n",
    "    elif x==2:\n",
    "        print(\"4 1\")\n",
    "    elif x==3:\n",
    "        print(\"1 2 1\")\n",
    "    elif x==4:\n",
    "        print(\"1 3 3 1\")\n",
    "    elif x==5:\n",
    "        print(\"1 4 6 4 1\")\n",
    "    elif x==6:\n",
    "        print(\"1 5 10 10 5 1\")\n",
    "    else:\n",
    "        print(\"1 6 15 20 15 6 1\")\n",
    "    x=x+1"
   ]
  },
  {
   "cell_type": "code",
   "execution_count": 24,
   "id": "da5efcec",
   "metadata": {},
   "outputs": [
    {
     "name": "stdout",
     "output_type": "stream",
     "text": [
      "1 2 3 4 5\n",
      "2 2 3 4 5\n",
      "3 3 3 4 5\n",
      "4 4 4 4 5\n",
      "5 5 5 5 5\n"
     ]
    }
   ],
   "source": [
    "x=1\n",
    "while x<=5:\n",
    "    if x==1:\n",
    "        print(\"1 2 3 4 5\")\n",
    "    elif x==2:\n",
    "        print(\"2 2 3 4 5\")\n",
    "    elif x==3:\n",
    "        print(\"3 3 3 4 5\")\n",
    "    elif x==4:\n",
    "        print(\"4 4 4 4 5\")\n",
    "    else:\n",
    "        print(\"5 5 5 5 5\")\n",
    "    x=x+1"
   ]
  },
  {
   "cell_type": "code",
   "execution_count": 26,
   "id": "5010f684",
   "metadata": {},
   "outputs": [
    {
     "name": "stdout",
     "output_type": "stream",
     "text": [
      "1\n",
      "2 4\n",
      "3 6 9\n",
      "4 8 12 16\n",
      "5 10 15 20 25\n",
      "6 12 18 24 30 36\n",
      "7 14 21 28 35 42 49\n",
      "8 16 24 32 40 48 56 64\n"
     ]
    }
   ],
   "source": [
    "x=1\n",
    "while x<=8:\n",
    "    if x==1:\n",
    "        print(\"1\")\n",
    "    elif x==2:\n",
    "        print(\"2 4\")\n",
    "    elif x==3:\n",
    "        print(\"3 6 9\")\n",
    "    elif x==4:\n",
    "        print(\"4 8 12 16\")\n",
    "    elif x==5:\n",
    "        print(\"5 10 15 20 25\")\n",
    "    elif x==6:\n",
    "        print(\"6 12 18 24 30 36\")\n",
    "    elif x==7:\n",
    "        print(\"7 14 21 28 35 42 49\")\n",
    "    else:\n",
    "        print(\"8 16 24 32 40 48 56 64\")\n",
    "    x=x+1"
   ]
  },
  {
   "cell_type": "code",
   "execution_count": 27,
   "id": "ca671369",
   "metadata": {},
   "outputs": [
    {
     "name": "stdout",
     "output_type": "stream",
     "text": [
      "*\n",
      "* *\n",
      "* * *\n",
      "* * * *\n",
      "* * * * *\n"
     ]
    }
   ],
   "source": [
    "x=1\n",
    "while x<=5:\n",
    "    if x==1:\n",
    "        print(\"*\")\n",
    "    elif x==2:\n",
    "        print(\"* *\")\n",
    "    elif x==3:\n",
    "        print(\"* * *\")\n",
    "    elif x==4:\n",
    "        print(\"* * * *\")\n",
    "    else:\n",
    "        print(\"* * * * *\")\n",
    "    x=x+1"
   ]
  },
  {
   "cell_type": "code",
   "execution_count": 33,
   "id": "3201978d",
   "metadata": {},
   "outputs": [
    {
     "name": "stdout",
     "output_type": "stream",
     "text": [
      "         * \n",
      "       * *\n",
      "     * * *\n",
      "   * * * *\n",
      " * * * * *\n"
     ]
    }
   ],
   "source": [
    "x=1\n",
    "while x<=5:\n",
    "    if x==1:\n",
    "        print(\"         * \")\n",
    "    elif x==2:\n",
    "        print(\"       * *\")\n",
    "    elif x==3:\n",
    "        print(\"     * * *\")\n",
    "    elif x==4:\n",
    "        print(\"   * * * *\")\n",
    "    else:\n",
    "        print(\" * * * * *\")\n",
    "    x=x+1"
   ]
  },
  {
   "cell_type": "code",
   "execution_count": 34,
   "id": "2a79f9cc",
   "metadata": {},
   "outputs": [
    {
     "name": "stdout",
     "output_type": "stream",
     "text": [
      "* * * * *\n",
      "* * * *\n",
      "* * *\n",
      "* *\n",
      "*\n"
     ]
    }
   ],
   "source": [
    "x=1\n",
    "while x<=5:\n",
    "    if x==1:\n",
    "        print(\"* * * * *\")\n",
    "    elif x==2:\n",
    "        print(\"* * * *\")\n",
    "    elif x==3:\n",
    "        print(\"* * *\")\n",
    "    elif x==4:\n",
    "        print(\"* *\")\n",
    "    else:\n",
    "        print(\"*\")\n",
    "    x=x+1"
   ]
  },
  {
   "cell_type": "code",
   "execution_count": 35,
   "id": "de492051",
   "metadata": {},
   "outputs": [
    {
     "name": "stdout",
     "output_type": "stream",
     "text": [
      "* * * * * *\n",
      " * * * * * \n",
      "  * * * *  \n",
      "   * * *   \n",
      "    * *    \n",
      "     *     \n"
     ]
    }
   ],
   "source": [
    "x=1\n",
    "while x<=6:\n",
    "    if x==1:\n",
    "        print(\"* * * * * *\")\n",
    "    elif x==2:\n",
    "        print(\" * * * * * \")\n",
    "    elif x==3:\n",
    "        print(\"  * * * *  \")\n",
    "    elif x==4:\n",
    "        print(\"   * * *   \")\n",
    "    elif x==5:\n",
    "        print(\"    * *    \")\n",
    "    else:\n",
    "        print(\"     *     \")\n",
    "    x=x+1"
   ]
  },
  {
   "cell_type": "code",
   "execution_count": 36,
   "id": "1a8da1b0",
   "metadata": {},
   "outputs": [
    {
     "name": "stdout",
     "output_type": "stream",
     "text": [
      "*****\n",
      " ****\n",
      "  ***\n",
      "   **\n",
      "    *\n"
     ]
    }
   ],
   "source": [
    "x=1\n",
    "while x<=5:\n",
    "    if x==1:\n",
    "        print(\"*****\")\n",
    "    elif x==2:\n",
    "        print(\" ****\")\n",
    "    elif x==3:\n",
    "        print(\"  ***\")\n",
    "    elif x==4:\n",
    "        print(\"   **\")\n",
    "    else:\n",
    "        print(\"    *\")\n",
    "    x=x+1"
   ]
  },
  {
   "cell_type": "code",
   "execution_count": 46,
   "id": "99e1e234",
   "metadata": {},
   "outputs": [
    {
     "name": "stdout",
     "output_type": "stream",
     "text": [
      "      * \n",
      "     * * \n",
      "    * * *   \n",
      "   * * * *   \n",
      "  * * * * *  \n",
      " * * * * * * \n",
      "* * * * * * *\n"
     ]
    }
   ],
   "source": [
    "x=1\n",
    "while x<=7:\n",
    "    if x==1:\n",
    "        print(\"      * \")\n",
    "    elif x==2:\n",
    "        print(\"     * * \")\n",
    "    elif x==3:\n",
    "        print(\"    * * *   \")\n",
    "    elif x==4:\n",
    "        print(\"   * * * *   \")\n",
    "    elif x==5:\n",
    "        print(\"  * * * * *  \")\n",
    "    elif x==6:\n",
    "        print(\" * * * * * * \")\n",
    "    else:\n",
    "        print(\"* * * * * * *\")\n",
    "    x=x+1"
   ]
  },
  {
   "cell_type": "code",
   "execution_count": 48,
   "id": "7fa0ab8f",
   "metadata": {},
   "outputs": [
    {
     "name": "stdout",
     "output_type": "stream",
     "text": [
      "*\n",
      "* *\n",
      "* * *\n",
      "* * * *\n",
      "* * * * *\n",
      "* * * * * *\n",
      "\n",
      "\n",
      "* * * * * *\n",
      "* * * * *\n",
      "* * * *\n",
      "* * *\n",
      "* *\n",
      "*\n"
     ]
    }
   ],
   "source": [
    "x=1\n",
    "while x<=14:\n",
    "    if x==1:\n",
    "        print(\"*\")\n",
    "    elif x==2:\n",
    "        print(\"* *\")\n",
    "    elif x==3:\n",
    "        print(\"* * *\")\n",
    "    elif x==4:\n",
    "        print(\"* * * *\")\n",
    "    elif x==5:\n",
    "        print(\"* * * * *\")\n",
    "    elif x==6:\n",
    "        print(\"* * * * * *\")\n",
    "    elif x==7:\n",
    "        print(\"\")\n",
    "    elif x==8:\n",
    "        print(\"\")\n",
    "    elif x==9:\n",
    "        print(\"* * * * * *\")\n",
    "    elif x==10:\n",
    "        print(\"* * * * *\")\n",
    "    elif x==11:\n",
    "        print(\"* * * *\")\n",
    "    elif x==12:\n",
    "        print(\"* * *\")\n",
    "    elif x==13:\n",
    "        print(\"* *\")\n",
    "    else:\n",
    "        print(\"*\")\n",
    "    x=x+1"
   ]
  },
  {
   "cell_type": "code",
   "execution_count": 49,
   "id": "eaa5404a",
   "metadata": {},
   "outputs": [
    {
     "name": "stdout",
     "output_type": "stream",
     "text": [
      "*\n",
      "* *\n",
      "* * *\n",
      "* * * *\n",
      "* * * * *\n",
      "* * * *\n",
      "* * *\n",
      "* *\n",
      "*\n"
     ]
    }
   ],
   "source": [
    " x=1\n",
    "while x<=9:\n",
    "    if x==1:\n",
    "        print(\"*\")\n",
    "    elif x==2:\n",
    "        print(\"* *\")\n",
    "    elif x==3:\n",
    "        print(\"* * *\")\n",
    "    elif x==4:\n",
    "        print(\"* * * *\")\n",
    "    elif x==5:\n",
    "        print(\"* * * * *\")\n",
    "    elif x==6:\n",
    "        print(\"* * * *\")\n",
    "    elif x==7:\n",
    "        print(\"* * *\")\n",
    "    elif x==8:\n",
    "        print(\"* *\")\n",
    "    else:\n",
    "        print(\"*\")\n",
    "    x=x+1"
   ]
  },
  {
   "cell_type": "code",
   "execution_count": 51,
   "id": "0e1f3e08",
   "metadata": {},
   "outputs": [
    {
     "name": "stdout",
     "output_type": "stream",
     "text": [
      "         * \n",
      "       * *\n",
      "     * * *\n",
      "   * * * *\n",
      " * * * * *\n",
      "   * * * *\n",
      "     * * *\n",
      "       * *\n",
      "         *\n"
     ]
    }
   ],
   "source": [
    "x=1\n",
    "while x<=9:\n",
    "    if x==1:\n",
    "        print(\"         * \")\n",
    "    elif x==2:\n",
    "        print(\"       * *\")\n",
    "    elif x==3:\n",
    "        print(\"     * * *\")\n",
    "    elif x==4:\n",
    "        print(\"   * * * *\")\n",
    "    elif x==5:\n",
    "        print(\" * * * * *\")\n",
    "    elif x==6:\n",
    "        print(\"   * * * *\")\n",
    "    elif x==7:\n",
    "        print(\"     * * *\")\n",
    "    elif x==8:\n",
    "        print(\"       * *\")\n",
    "    else:\n",
    "        print(\"         *\")\n",
    "    x=x+1"
   ]
  },
  {
   "cell_type": "code",
   "execution_count": 55,
   "id": "3a4461f8",
   "metadata": {},
   "outputs": [
    {
     "name": "stdout",
     "output_type": "stream",
     "text": [
      "* * * * *\n",
      " * * * *\n",
      "  * * * \n",
      "   * *   \n",
      "    *   \n",
      "    *   \n",
      "    *   \n",
      "   * *   \n",
      "  * * * \n",
      " * * * *\n",
      "* * * * *\n"
     ]
    }
   ],
   "source": [
    "x=1\n",
    "while x<=11:\n",
    "    if x==1 or x==11:\n",
    "        print(\"* * * * *\")\n",
    "    elif x==2 or x==10:\n",
    "        print(\" * * * *\")\n",
    "    elif x==3 or x==9:\n",
    "        print(\"  * * * \")\n",
    "    elif x==4 or x==8:\n",
    "        print(\"   * *   \")\n",
    "    else:\n",
    "        print(\"    *   \")\n",
    "    x=x+1"
   ]
  },
  {
   "cell_type": "code",
   "execution_count": 63,
   "id": "7f2ed384",
   "metadata": {},
   "outputs": [
    {
     "name": "stdout",
     "output_type": "stream",
     "text": [
      "     *  \n",
      "    * *  \n",
      "   * * *  \n",
      "  * * * * \n",
      " * * * * *\n",
      "* * * * * *\n",
      " * * * * *\n",
      "  * * * * \n",
      "   * * *  \n",
      "    * *  \n",
      "     *  \n"
     ]
    }
   ],
   "source": [
    "x=1\n",
    "while x<=11:\n",
    "    if x==1 or x==11:\n",
    "        print(\"     *  \")\n",
    "    elif x==2 or x==10:\n",
    "        print(\"    * *  \")\n",
    "    elif x==3 or x==9:\n",
    "        print(\"   * * *  \")\n",
    "    elif x==4 or x==8:\n",
    "        print(\"  * * * * \")\n",
    "    elif x==5 or x==7:\n",
    "        print(\" * * * * *\")\n",
    "    else:\n",
    "        print(\"* * * * * *\")\n",
    "    x=x+1"
   ]
  },
  {
   "cell_type": "code",
   "execution_count": 79,
   "id": "0930914b",
   "metadata": {},
   "outputs": [
    {
     "name": "stdout",
     "output_type": "stream",
     "text": [
      "     *  \n",
      "    * *  \n",
      "   *   *  \n",
      "  *     * \n",
      " *       *\n",
      "  *     * \n",
      "   *   *  \n",
      "    * *  \n",
      "     *  \n"
     ]
    }
   ],
   "source": [
    "x=1\n",
    "while x<=9:\n",
    "    if x==1 or x==9:\n",
    "        print(\"     *  \")\n",
    "    elif x==2 or x==8:\n",
    "        print(\"    * *  \")\n",
    "    elif x==3 or x==7:\n",
    "        print(\"   *   *  \")\n",
    "    elif x==4 or x==6:\n",
    "        print(\"  *     * \")\n",
    "    else:\n",
    "        print(\" *       *\")\n",
    "    x=x+1"
   ]
  },
  {
   "cell_type": "code",
   "execution_count": null,
   "id": "a6b047e7",
   "metadata": {},
   "outputs": [],
   "source": []
  }
 ],
 "metadata": {
  "kernelspec": {
   "display_name": "Python 3 (ipykernel)",
   "language": "python",
   "name": "python3"
  },
  "language_info": {
   "codemirror_mode": {
    "name": "ipython",
    "version": 3
   },
   "file_extension": ".py",
   "mimetype": "text/x-python",
   "name": "python",
   "nbconvert_exporter": "python",
   "pygments_lexer": "ipython3",
   "version": "3.11.3"
  }
 },
 "nbformat": 4,
 "nbformat_minor": 5
}
