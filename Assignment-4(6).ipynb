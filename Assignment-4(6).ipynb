{
 "cells": [
  {
   "cell_type": "markdown",
   "id": "1c1ac8cc",
   "metadata": {},
   "source": [
    "# 1. Define a function which will       return Max of three numbers"
   ]
  },
  {
   "cell_type": "code",
   "execution_count": 1,
   "id": "fe6f4db5",
   "metadata": {},
   "outputs": [
    {
     "name": "stdout",
     "output_type": "stream",
     "text": [
      "The max of three numbers is: 23\n"
     ]
    }
   ],
   "source": [
    "def num(a,b,c):\n",
    "    return max(a,b,c)\n",
    "max=num(10,2,23)\n",
    "print(\"The max of three numbers is:\", max)"
   ]
  },
  {
   "cell_type": "markdown",
   "id": "eba09620",
   "metadata": {},
   "source": [
    "# 2. Define a python function to reverse a string."
   ]
  },
  {
   "cell_type": "code",
   "execution_count": 3,
   "id": "1b2beb83",
   "metadata": {},
   "outputs": [
    {
     "name": "stdout",
     "output_type": "stream",
     "text": [
      "enter the string innomatics\n",
      "scitamonni\n"
     ]
    }
   ],
   "source": [
    "def reverse_string(n):\n",
    "    return n[::-1]\n",
    "string=input(\"enter the string \")\n",
    "reverse_string=reverse_string(string)\n",
    "print(reverse_string)"
   ]
  },
  {
   "cell_type": "markdown",
   "id": "0330488d",
   "metadata": {},
   "source": [
    "# 3. Write a python program to define a function that accepts 2 values and return its sum, subtraction and multiplication."
   ]
  },
  {
   "cell_type": "code",
   "execution_count": 10,
   "id": "ab64f24a",
   "metadata": {},
   "outputs": [],
   "source": [
    "def f1(x=110,y=20):\n",
    "    x1=print(\"sum of 2 values\")\n",
    "    y=print(\"sub of 2 values\")\n",
    "    z=print(\"multiple of 2 values\")\n",
    "    return(x+y,x-y,x*y)\n",
    "    f1(x1,y,z)"
   ]
  },
  {
   "cell_type": "markdown",
   "id": "495cff46",
   "metadata": {},
   "source": [
    "# 4. define a function that accepts roll number and returns whether the student is present or absent"
   ]
  },
  {
   "cell_type": "code",
   "execution_count": null,
   "id": "2ff7c785",
   "metadata": {},
   "outputs": [],
   "source": []
  },
  {
   "cell_type": "markdown",
   "id": "551446c7",
   "metadata": {},
   "source": [
    "# 5. define a function in python that accepts n values and returns the maximum of n numbers"
   ]
  },
  {
   "cell_type": "code",
   "execution_count": 4,
   "id": "c657298f",
   "metadata": {},
   "outputs": [
    {
     "data": {
      "text/plain": [
       "56"
      ]
     },
     "execution_count": 4,
     "metadata": {},
     "output_type": "execute_result"
    }
   ],
   "source": [
    "def max1(*i):\n",
    "    max(i)\n",
    "    return max(i)\n",
    "max1(24,50,30,56)"
   ]
  },
  {
   "cell_type": "markdown",
   "id": "40a786ad",
   "metadata": {},
   "source": [
    "# 6. define a function which counts vowels and consonents in a word"
   ]
  },
  {
   "cell_type": "code",
   "execution_count": 6,
   "id": "47c76c4a",
   "metadata": {},
   "outputs": [
    {
     "name": "stdout",
     "output_type": "stream",
     "text": [
      "enter your string:pavan kalyan\n",
      "vowels:  4\n",
      "consonants:  8\n"
     ]
    }
   ],
   "source": [
    "def vowels(s):\n",
    "    x=0\n",
    "    y=0\n",
    "    for i in s:\n",
    "        if (i.lower()==\"a\") or (i.lower()==\"e\") or (i.lower()==\"i\")  or (i.lower()==\"o\") or (i.lower()==\"u\"):\n",
    "            x+=1\n",
    "        else:\n",
    "            y=y+1\n",
    "    print(\"vowels: \",x)\n",
    "    print(\"consonants: \",y)\n",
    "string=input(\"enter your string:\")\n",
    "vowels(string)"
   ]
  },
  {
   "cell_type": "markdown",
   "id": "6d640467",
   "metadata": {},
   "source": [
    "# 7. define a function that returns factorial of a number"
   ]
  },
  {
   "cell_type": "code",
   "execution_count": null,
   "id": "41dc8636",
   "metadata": {},
   "outputs": [],
   "source": []
  },
  {
   "cell_type": "markdown",
   "id": "28c07ca8",
   "metadata": {},
   "source": [
    "# 8. define a function that accepts radius and return the area of a circle"
   ]
  },
  {
   "cell_type": "code",
   "execution_count": 2,
   "id": "784ed756",
   "metadata": {},
   "outputs": [
    {
     "name": "stdout",
     "output_type": "stream",
     "text": [
      "enter the radius: 5\n"
     ]
    },
    {
     "data": {
      "text/plain": [
       "78.5"
      ]
     },
     "execution_count": 2,
     "metadata": {},
     "output_type": "execute_result"
    }
   ],
   "source": [
    "def area(r):\n",
    "    radius=3.14*(r**2)\n",
    "    return radius\n",
    "r=int(input(\"enter the radius: \"))\n",
    "area(r)"
   ]
  },
  {
   "cell_type": "markdown",
   "id": "d9085885",
   "metadata": {},
   "source": [
    "# 9. define a function that takes a number as a parameter and check the number is prime or not"
   ]
  },
  {
   "cell_type": "code",
   "execution_count": 4,
   "id": "f005802e",
   "metadata": {},
   "outputs": [
    {
     "name": "stdout",
     "output_type": "stream",
     "text": [
      "enter the num you want check: 5\n"
     ]
    },
    {
     "data": {
      "text/plain": [
       "'prime'"
      ]
     },
     "execution_count": 4,
     "metadata": {},
     "output_type": "execute_result"
    }
   ],
   "source": [
    "def prime(x):\n",
    "    c=0\n",
    "    for i in range(1,x+1):\n",
    "        if (x%i==0):\n",
    "            c=c+1\n",
    "    if(c>2):\n",
    "        return \"not a prime number\"\n",
    "    else:\n",
    "        return \"prime\"\n",
    "n=int(input(\"enter the num you want check: \"))\n",
    "prime(n)"
   ]
  },
  {
   "cell_type": "markdown",
   "id": "24b0a63c",
   "metadata": {},
   "source": [
    "# 15. write a python program to check whether a given string is number or not using lambda"
   ]
  },
  {
   "cell_type": "code",
   "execution_count": 5,
   "id": "9885d298",
   "metadata": {},
   "outputs": [
    {
     "name": "stdout",
     "output_type": "stream",
     "text": [
      "enter a string to check: 5\n"
     ]
    },
    {
     "data": {
      "text/plain": [
       "True"
      ]
     },
     "execution_count": 5,
     "metadata": {},
     "output_type": "execute_result"
    }
   ],
   "source": [
    "string=input(\"enter a string to check: \")\n",
    "num=lambda x:x.isdigit() \n",
    "num(string)\n",
    "    "
   ]
  },
  {
   "cell_type": "code",
   "execution_count": null,
   "id": "3d108f2b",
   "metadata": {},
   "outputs": [],
   "source": []
  }
 ],
 "metadata": {
  "kernelspec": {
   "display_name": "Python 3 (ipykernel)",
   "language": "python",
   "name": "python3"
  },
  "language_info": {
   "codemirror_mode": {
    "name": "ipython",
    "version": 3
   },
   "file_extension": ".py",
   "mimetype": "text/x-python",
   "name": "python",
   "nbconvert_exporter": "python",
   "pygments_lexer": "ipython3",
   "version": "3.11.3"
  }
 },
 "nbformat": 4,
 "nbformat_minor": 5
}
