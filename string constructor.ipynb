{
 "cells": [
  {
   "cell_type": "code",
   "execution_count": 2,
   "id": "4193430b",
   "metadata": {},
   "outputs": [
    {
     "data": {
      "text/plain": [
       "True"
      ]
     },
     "execution_count": 2,
     "metadata": {},
     "output_type": "execute_result"
    }
   ],
   "source": [
    "x=\"abcd23\"\n",
    "x.isidentifier()"
   ]
  },
  {
   "cell_type": "code",
   "execution_count": 3,
   "id": "2a15f10c",
   "metadata": {},
   "outputs": [
    {
     "data": {
      "text/plain": [
       "False"
      ]
     },
     "execution_count": 3,
     "metadata": {},
     "output_type": "execute_result"
    }
   ],
   "source": [
    "x=\"12anc\"\n",
    "x.isidentifier()"
   ]
  },
  {
   "cell_type": "code",
   "execution_count": 4,
   "id": "0c849170",
   "metadata": {},
   "outputs": [
    {
     "data": {
      "text/plain": [
       "False"
      ]
     },
     "execution_count": 4,
     "metadata": {},
     "output_type": "execute_result"
    }
   ],
   "source": [
    "x=\" anskd\"\n",
    "x.isidentifier()"
   ]
  },
  {
   "cell_type": "code",
   "execution_count": 5,
   "id": "443dff7c",
   "metadata": {},
   "outputs": [
    {
     "data": {
      "text/plain": [
       "'000ab'"
      ]
     },
     "execution_count": 5,
     "metadata": {},
     "output_type": "execute_result"
    }
   ],
   "source": [
    "x=\"ab\"\n",
    "x.zfill(5)"
   ]
  },
  {
   "cell_type": "code",
   "execution_count": 8,
   "id": "ac17d4cb",
   "metadata": {},
   "outputs": [
    {
     "data": {
      "text/plain": [
       "' abcdefgh '"
      ]
     },
     "execution_count": 8,
     "metadata": {},
     "output_type": "execute_result"
    }
   ],
   "source": [
    "x=\"abcdefgh\"\n",
    "x.center(10)"
   ]
  },
  {
   "cell_type": "code",
   "execution_count": 9,
   "id": "8f904349",
   "metadata": {},
   "outputs": [
    {
     "data": {
      "text/plain": [
       "'                                                 a                                                  '"
      ]
     },
     "execution_count": 9,
     "metadata": {},
     "output_type": "execute_result"
    }
   ],
   "source": [
    "x=\"a\"\n",
    "x.center(100)"
   ]
  },
  {
   "cell_type": "code",
   "execution_count": 10,
   "id": "a8053176",
   "metadata": {},
   "outputs": [
    {
     "data": {
      "text/plain": [
       "True"
      ]
     },
     "execution_count": 10,
     "metadata": {},
     "output_type": "execute_result"
    }
   ],
   "source": [
    "x=\"abcq1\"\n",
    "x.isidentifier()"
   ]
  },
  {
   "cell_type": "code",
   "execution_count": 11,
   "id": "0e213065",
   "metadata": {},
   "outputs": [
    {
     "data": {
      "text/plain": [
       "'0000000000ab'"
      ]
     },
     "execution_count": 11,
     "metadata": {},
     "output_type": "execute_result"
    }
   ],
   "source": [
    "x=\"ab\"\n",
    "x.zfill(12)"
   ]
  },
  {
   "cell_type": "code",
   "execution_count": 12,
   "id": "ca74c5cf",
   "metadata": {},
   "outputs": [
    {
     "data": {
      "text/plain": [
       "'  qwe d   '"
      ]
     },
     "execution_count": 12,
     "metadata": {},
     "output_type": "execute_result"
    }
   ],
   "source": [
    "x=\"qwe d\"\n",
    "x.center(10)"
   ]
  },
  {
   "cell_type": "code",
   "execution_count": 13,
   "id": "a37fc435",
   "metadata": {},
   "outputs": [
    {
     "data": {
      "text/plain": [
       "'--ab-'"
      ]
     },
     "execution_count": 13,
     "metadata": {},
     "output_type": "execute_result"
    }
   ],
   "source": [
    "x=\"ab\"\n",
    "x.center(5,\"-\")"
   ]
  },
  {
   "cell_type": "code",
   "execution_count": 14,
   "id": "7268f13d",
   "metadata": {},
   "outputs": [
    {
     "data": {
      "text/plain": [
       "'1'"
      ]
     },
     "execution_count": 14,
     "metadata": {},
     "output_type": "execute_result"
    }
   ],
   "source": [
    "x=1\n",
    "str(x)"
   ]
  },
  {
   "cell_type": "code",
   "execution_count": 15,
   "id": "dc0c98a3",
   "metadata": {},
   "outputs": [
    {
     "data": {
      "text/plain": [
       "12"
      ]
     },
     "execution_count": 15,
     "metadata": {},
     "output_type": "execute_result"
    }
   ],
   "source": [
    "x=\"12\"\n",
    "int(x)"
   ]
  },
  {
   "cell_type": "code",
   "execution_count": 16,
   "id": "c6840aab",
   "metadata": {},
   "outputs": [
    {
     "data": {
      "text/plain": [
       "1.23"
      ]
     },
     "execution_count": 16,
     "metadata": {},
     "output_type": "execute_result"
    }
   ],
   "source": [
    "x=\"1.23\"\n",
    "float(x)"
   ]
  },
  {
   "cell_type": "code",
   "execution_count": 17,
   "id": "037ceff9",
   "metadata": {},
   "outputs": [
    {
     "data": {
      "text/plain": [
       "(1+12j)"
      ]
     },
     "execution_count": 17,
     "metadata": {},
     "output_type": "execute_result"
    }
   ],
   "source": [
    "x=\"1+12J\"\n",
    "complex(x)"
   ]
  },
  {
   "cell_type": "code",
   "execution_count": 19,
   "id": "388edd42",
   "metadata": {},
   "outputs": [],
   "source": [
    "name=\"pavan kalyan\"\n",
    "age = 23\n",
    "phn_num=12334454322\n",
    "height=6\n",
    "weight=80"
   ]
  },
  {
   "cell_type": "code",
   "execution_count": 20,
   "id": "cbffc952",
   "metadata": {},
   "outputs": [
    {
     "data": {
      "text/plain": [
       "'my name is pavan kalyan my age is 23 my phn_num is 12334454322 my height is 6 my weight is 80'"
      ]
     },
     "execution_count": 20,
     "metadata": {},
     "output_type": "execute_result"
    }
   ],
   "source": [
    "\"my name is {} my age is {} my phn_num is {} my height is {} my weight is {}\".format(name,age,phn_num,height,weight)"
   ]
  },
  {
   "cell_type": "code",
   "execution_count": 25,
   "id": "e3ae8b1a",
   "metadata": {},
   "outputs": [
    {
     "data": {
      "text/plain": [
       "'pavan kalyan 23'"
      ]
     },
     "execution_count": 25,
     "metadata": {},
     "output_type": "execute_result"
    }
   ],
   "source": [
    "\"{} {}\".format(name,age)\n"
   ]
  },
  {
   "cell_type": "code",
   "execution_count": 28,
   "id": "c958162b",
   "metadata": {},
   "outputs": [
    {
     "name": "stdout",
     "output_type": "stream",
     "text": [
      "enter your nameKOLLA VENKATA NAGA PAVAN KALYAN PAVAN KALYAN PAVAN KALYAN\n",
      "enter the age23\n",
      "enter your ph_no221542112\n",
      "enter height5.01\n",
      "enter the weight52\n",
      "my name is KOLLA VENKATA NAGA PAVAN KALYAN PAVAN KALYAN PAVAN KALYAN my age is 23 my phn_num is 12334454322 my height is 5.01 my weight is 52\n"
     ]
    }
   ],
   "source": [
    "name=input(\"enter your name\")\n",
    "age=int(input(\"enter the age\"))\n",
    "ph_no=int(input(\"enter your ph_no\"))\n",
    "height=float(input(\"enter height\"))\n",
    "weight=int(input(\"enter the weight\"))\n",
    "print(\"my name is {} my age is {} my phn_num is {} my height is {} my weight is {}\".format(name,age,phn_num,height,weight))"
   ]
  },
  {
   "cell_type": "code",
   "execution_count": 31,
   "id": "5e0867e2",
   "metadata": {},
   "outputs": [
    {
     "name": "stdout",
     "output_type": "stream",
     "text": [
      "enter the number10\n",
      "enter the number5\n"
     ]
    },
    {
     "data": {
      "text/plain": [
       "'10*5=50'"
      ]
     },
     "execution_count": 31,
     "metadata": {},
     "output_type": "execute_result"
    }
   ],
   "source": [
    "num1=int(input(\"enter the number\"))\n",
    "num2=int(input(\"enter the number\"))\n",
    "\"{}+{}={}\".format(num1,num2,num1+num2)\n",
    "\"{}-{}={}\".format(num1,num2,num1-num2)\n",
    "\"{}*{}={}\".format(num1,num2,num1*num2)"
   ]
  },
  {
   "cell_type": "code",
   "execution_count": 36,
   "id": "15866c0a",
   "metadata": {},
   "outputs": [
    {
     "name": "stdout",
     "output_type": "stream",
     "text": [
      "enter the number10\n",
      "enter the number5\n",
      "sum of numbers is 15\n",
      "diff of numbers is 5\n",
      "diff of numbers is 50\n"
     ]
    }
   ],
   "source": [
    "num1=int(input(\"enter the number\"))\n",
    "num2=int(input(\"enter the number\"))\n",
    "print(\"sum of numbers is {}\".format(num1+num2))\n",
    "print(\"diff of numbers is {}\".format(num1-num2))\n",
    "print(\"diff of numbers is {}\".format(num1*num2))"
   ]
  },
  {
   "cell_type": "code",
   "execution_count": 40,
   "id": "5c43a761",
   "metadata": {},
   "outputs": [
    {
     "data": {
      "text/plain": [
       "'AbCdEf'"
      ]
     },
     "execution_count": 40,
     "metadata": {},
     "output_type": "execute_result"
    }
   ],
   "source": [
    "      \n",
    "var1=\"aBcDeF\"\n",
    "var1.swapcase()"
   ]
  },
  {
   "cell_type": "code",
   "execution_count": 48,
   "id": "2316db20",
   "metadata": {},
   "outputs": [
    {
     "data": {
      "text/plain": [
       "'AbCdEg'"
      ]
     },
     "execution_count": 48,
     "metadata": {},
     "output_type": "execute_result"
    }
   ],
   "source": [
    "var2=\"aBcDeG\"\n",
    "var2[0].upper()+var2[1].lower()+var2[2].upper()+var2[3].lower()+var2[4].upper()+var2[5].lower()"
   ]
  },
  {
   "cell_type": "code",
   "execution_count": 45,
   "id": "be8c7caa",
   "metadata": {},
   "outputs": [
    {
     "ename": "SyntaxError",
     "evalue": "unexpected character after line continuation character (19701698.py, line 1)",
     "output_type": "error",
     "traceback": [
      "\u001b[1;36m  Cell \u001b[1;32mIn[45], line 1\u001b[1;36m\u001b[0m\n\u001b[1;33m    ord(\\t)\u001b[0m\n\u001b[1;37m         ^\u001b[0m\n\u001b[1;31mSyntaxError\u001b[0m\u001b[1;31m:\u001b[0m unexpected character after line continuation character\n"
     ]
    }
   ],
   "source": [
    "ord(\\t)"
   ]
  },
  {
   "cell_type": "code",
   "execution_count": 49,
   "id": "3bb926a1",
   "metadata": {},
   "outputs": [
    {
     "ename": "SyntaxError",
     "evalue": "unexpected character after line continuation character (3925184903.py, line 1)",
     "output_type": "error",
     "traceback": [
      "\u001b[1;36m  Cell \u001b[1;32mIn[49], line 1\u001b[1;36m\u001b[0m\n\u001b[1;33m    ord(a\\tb)\u001b[0m\n\u001b[1;37m          ^\u001b[0m\n\u001b[1;31mSyntaxError\u001b[0m\u001b[1;31m:\u001b[0m unexpected character after line continuation character\n"
     ]
    }
   ],
   "source": [
    "ord(a\\tb)"
   ]
  },
  {
   "cell_type": "code",
   "execution_count": null,
   "id": "c0162a39",
   "metadata": {},
   "outputs": [],
   "source": []
  }
 ],
 "metadata": {
  "kernelspec": {
   "display_name": "Python 3 (ipykernel)",
   "language": "python",
   "name": "python3"
  },
  "language_info": {
   "codemirror_mode": {
    "name": "ipython",
    "version": 3
   },
   "file_extension": ".py",
   "mimetype": "text/x-python",
   "name": "python",
   "nbconvert_exporter": "python",
   "pygments_lexer": "ipython3",
   "version": "3.11.3"
  }
 },
 "nbformat": 4,
 "nbformat_minor": 5
}
