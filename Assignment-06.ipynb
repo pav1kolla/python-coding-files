{
 "cells": [
  {
   "cell_type": "markdown",
   "id": "e036080b",
   "metadata": {},
   "source": [
    "# 1. write a python program that prints all the numbers from 0 to 6 except 3 and 6"
   ]
  },
  {
   "cell_type": "code",
   "execution_count": 1,
   "id": "b7c7659f",
   "metadata": {},
   "outputs": [
    {
     "name": "stdout",
     "output_type": "stream",
     "text": [
      "0 1 2 4 5 "
     ]
    }
   ],
   "source": [
    "for x in range(0,6):\n",
    "    if(x==3 or x==6):\n",
    "        continue\n",
    "    print(x,end=' ')"
   ]
  },
  {
   "cell_type": "code",
   "execution_count": null,
   "id": "3768f60f",
   "metadata": {},
   "outputs": [],
   "source": []
  },
  {
   "cell_type": "markdown",
   "id": "c6809fec",
   "metadata": {},
   "source": [
    "# 2. write a program to accept a number from a user and calculate the sum of all numbers from 1 to a given number."
   ]
  },
  {
   "cell_type": "code",
   "execution_count": 1,
   "id": "956c5dda",
   "metadata": {},
   "outputs": [
    {
     "name": "stdout",
     "output_type": "stream",
     "text": [
      " enter a number5\n",
      "15\n"
     ]
    }
   ],
   "source": [
    "sum=0\n",
    "i=int(input(\" enter a number\"))\n",
    "for x in range(1,i+1):\n",
    "    sum=sum+x\n",
    "print(sum)"
   ]
  },
  {
   "cell_type": "markdown",
   "id": "3099d3d4",
   "metadata": {},
   "source": [
    "# 3.write a program to print multiplication table of a given number(input)"
   ]
  },
  {
   "cell_type": "code",
   "execution_count": 6,
   "id": "5bc46e93",
   "metadata": {},
   "outputs": [
    {
     "name": "stdout",
     "output_type": "stream",
     "text": [
      "enter a number2\n",
      "multiplication of table of 2\n",
      "2 x 1 = 2\n",
      "2 x 2 = 4\n",
      "2 x 3 = 6\n",
      "2 x 4 = 8\n",
      "2 x 5 = 10\n",
      "2 x 6 = 12\n",
      "2 x 7 = 14\n",
      "2 x 8 = 16\n",
      "2 x 9 = 18\n",
      "2 x 10 = 20\n"
     ]
    }
   ],
   "source": [
    "num=int(input(\"enter a number\"))\n",
    "print(\"multiplication of table of\",num)\n",
    "for x in range(1,11):\n",
    "    print(num,\"x\",x, \"=\", num*x)"
   ]
  },
  {
   "cell_type": "code",
   "execution_count": null,
   "id": "3b1d724e",
   "metadata": {},
   "outputs": [],
   "source": []
  },
  {
   "cell_type": "markdown",
   "id": "564676c2",
   "metadata": {},
   "source": [
    "# 4. write a program to count the total number of digits in a number using a while loop"
   ]
  },
  {
   "cell_type": "code",
   "execution_count": 1,
   "id": "bdf29931",
   "metadata": {},
   "outputs": [
    {
     "name": "stdout",
     "output_type": "stream",
     "text": [
      "number of digits: 5\n"
     ]
    }
   ],
   "source": [
    "num = 75869\n",
    "count=0\n",
    "while(num!=0):\n",
    "    num//=10\n",
    "    count+=1\n",
    "print(\"number of digits: \" + str(count))"
   ]
  },
  {
   "cell_type": "code",
   "execution_count": null,
   "id": "dcb5c2c2",
   "metadata": {},
   "outputs": [],
   "source": []
  },
  {
   "cell_type": "markdown",
   "id": "022be78a",
   "metadata": {},
   "source": [
    "# 5. write a python program to guess a number between 1 to"
   ]
  },
  {
   "cell_type": "code",
   "execution_count": 8,
   "id": "0896dc21",
   "metadata": {},
   "outputs": [
    {
     "name": "stdout",
     "output_type": "stream",
     "text": [
      "enter a number9\n",
      "wrong guessed\n",
      "wrong guessed\n",
      "wrong guessed\n",
      "wrong guessed\n",
      "wrong guessed\n"
     ]
    }
   ],
   "source": [
    "num=int(input(\"enter a number\"))\n",
    "for x in range(1,6):\n",
    "    if num==1:\n",
    "        print(\"Well guessed!\")\n",
    "    elif num==2:\n",
    "        print(\"Well guessed!\")\n",
    "    elif num==3:\n",
    "        print(\"Well guessed!\")\n",
    "    elif num==4:\n",
    "        print(\"Well guessed!\")  \n",
    "    elif num==5:\n",
    "        print(\"Well guessed!\")\n",
    "    elif num==6:\n",
    "        print(\"Well guessed!\")\n",
    "    else:\n",
    "        print(\"wrong guessed\")"
   ]
  },
  {
   "cell_type": "code",
   "execution_count": null,
   "id": "fd968a52",
   "metadata": {},
   "outputs": [],
   "source": []
  },
  {
   "cell_type": "markdown",
   "id": "d61f5638",
   "metadata": {},
   "source": [
    "# 6. write a python program which iterates the integers from 1 to 60.for multipiles of three print \"Fizz\" instead of the number and for the multiples of five print \"Buzz\". for numbers which are multiples of both three and five print \"FizzBuzz\""
   ]
  },
  {
   "cell_type": "code",
   "execution_count": 5,
   "id": "b40f69c7",
   "metadata": {},
   "outputs": [
    {
     "name": "stdout",
     "output_type": "stream",
     "text": [
      "enter a number  3\n",
      "FizzBuzz\n",
      "not multiple\n",
      "not multiple\n",
      "Fizz\n",
      "not multiple\n",
      "Buzz\n",
      "Fizz\n",
      "not multiple\n",
      "not multiple\n",
      "Fizz\n",
      "Buzz\n",
      "not multiple\n",
      "Fizz\n",
      "not multiple\n",
      "not multiple\n",
      "FizzBuzz\n",
      "not multiple\n",
      "not multiple\n",
      "Fizz\n",
      "not multiple\n",
      "Buzz\n",
      "Fizz\n",
      "not multiple\n",
      "not multiple\n",
      "Fizz\n",
      "Buzz\n",
      "not multiple\n",
      "Fizz\n",
      "not multiple\n",
      "not multiple\n",
      "FizzBuzz\n",
      "not multiple\n",
      "not multiple\n",
      "Fizz\n",
      "not multiple\n",
      "Buzz\n",
      "Fizz\n",
      "not multiple\n",
      "not multiple\n",
      "Fizz\n",
      "Buzz\n",
      "not multiple\n",
      "Fizz\n",
      "not multiple\n",
      "not multiple\n",
      "FizzBuzz\n",
      "not multiple\n",
      "not multiple\n",
      "Fizz\n",
      "not multiple\n",
      "Buzz\n",
      "Fizz\n",
      "not multiple\n",
      "not multiple\n",
      "Fizz\n",
      "Buzz\n",
      "not multiple\n",
      "Fizz\n",
      "not multiple\n",
      "not multiple\n"
     ]
    }
   ],
   "source": [
    "num=int(input(\"enter a number  \"))\n",
    "for num in range(60):\n",
    "    if num%3==0 and num%5==0:\n",
    "        print(\"FizzBuzz\")\n",
    "        continue\n",
    "    elif num%3==0:\n",
    "        print(\"Fizz\")\n",
    "        continue\n",
    "    elif num%5==0:\n",
    "        print(\"Buzz\")\n",
    "        continue\n",
    "    else:\n",
    "        print(\"not multiple\")"
   ]
  },
  {
   "cell_type": "code",
   "execution_count": null,
   "id": "57810f05",
   "metadata": {},
   "outputs": [],
   "source": []
  },
  {
   "cell_type": "markdown",
   "id": "ce232b15",
   "metadata": {},
   "source": [
    "# 7. write a python program that accepts a string and calculate the number of digits and letters"
   ]
  },
  {
   "cell_type": "code",
   "execution_count": 3,
   "id": "e11898eb",
   "metadata": {},
   "outputs": [
    {
     "name": "stdout",
     "output_type": "stream",
     "text": [
      "enter a string  pavankalyan 120\n",
      "['pavankalyan', '120']\n",
      "Letters  11\n",
      "Digits  3\n"
     ]
    }
   ],
   "source": [
    "string=input(\"enter a string  \")\n",
    "new_string=string[0:].split()\n",
    "print(new_string)\n",
    "x=len(new_string[0])\n",
    "print(\"Letters \",x)\n",
    "y=len(new_string[1])\n",
    "print(\"Digits \",y)"
   ]
  },
  {
   "cell_type": "code",
   "execution_count": null,
   "id": "500f7050",
   "metadata": {},
   "outputs": [],
   "source": []
  },
  {
   "cell_type": "markdown",
   "id": "93451efd",
   "metadata": {},
   "source": [
    "# 8. write a python program to check the validity of password input by users."
   ]
  },
  {
   "cell_type": "code",
   "execution_count": 28,
   "id": "1a50e30d",
   "metadata": {},
   "outputs": [],
   "source": [
    "password=input(\"enter the password\")\n",
    "x=\"\"\n",
    "for y in x:\n",
    "    if (len(password)==6 or len(password)<=16):\n",
    "        continue\n",
    "    elif()\n",
    "    elif()"
   ]
  },
  {
   "cell_type": "code",
   "execution_count": 30,
   "id": "b65aed1e",
   "metadata": {},
   "outputs": [
    {
     "name": "stdout",
     "output_type": "stream",
     "text": [
      "Input your passwordpassword@125\n",
      "Not a Valid Password\n"
     ]
    }
   ],
   "source": [
    "import re\n",
    "p= input(\"Input your password\")\n",
    "x = True\n",
    "while x:  \n",
    "    if (len(p)<6 or len(p)>12):\n",
    "        break\n",
    "    elif not re.search(\"[a-z]\",p):\n",
    "        break\n",
    "    elif not re.search(\"[0-9]\",p):\n",
    "        break\n",
    "    elif not re.search(\"[A-Z]\",p):\n",
    "        break\n",
    "    elif not re.search(\"[$#@]\",p):\n",
    "        break\n",
    "    elif re.search(\"\\s\",p):\n",
    "        break\n",
    "    else:\n",
    "        print(\"Valid Password\")\n",
    "        x=False\n",
    "        break\n",
    "\n",
    "if x:\n",
    "    print(\"Not a Valid Password\")\n"
   ]
  },
  {
   "cell_type": "markdown",
   "id": "95677720",
   "metadata": {},
   "source": [
    "# 9.write a python program to reverse a word by using while loop"
   ]
  },
  {
   "cell_type": "code",
   "execution_count": 5,
   "id": "4ba215ae",
   "metadata": {},
   "outputs": [
    {
     "name": "stdout",
     "output_type": "stream",
     "text": [
      "the reverse of x is nohtyp\n"
     ]
    }
   ],
   "source": [
    "string=\"python\"\n",
    "i=string\n",
    "reverse=\"\"\n",
    "while(len(i)>0):\n",
    "    if(len(i)>0):\n",
    "        a=i[-1]\n",
    "        i=i[:-1]\n",
    "        reverse +=a\n",
    "print(\"the reverse of x is\", reverse)"
   ]
  },
  {
   "cell_type": "markdown",
   "id": "24a65dc1",
   "metadata": {},
   "source": [
    "# 10. write a program which takes 10 integers as input using loop and print their average value on the screen"
   ]
  },
  {
   "cell_type": "code",
   "execution_count": 4,
   "id": "a47edf9b",
   "metadata": {},
   "outputs": [
    {
     "name": "stdout",
     "output_type": "stream",
     "text": [
      "enter the number  10\n",
      "enter the number  20\n",
      "enter the number  22\n",
      "enter the number  30\n",
      "enter the number  40\n",
      "enter the number  15\n",
      "enter the number  45\n",
      "enter the number  51\n",
      "enter the number  21\n",
      "enter the number  32\n",
      "average of numbers =  28.6\n"
     ]
    }
   ],
   "source": [
    "total=0\n",
    "for i in range(10):\n",
    "    num =int(input(\"enter the number  \"))\n",
    "    total+=num\n",
    "average=total/10\n",
    "print(\"average of numbers = \", average)"
   ]
  },
  {
   "cell_type": "markdown",
   "id": "992e9031",
   "metadata": {},
   "source": [
    "# 11.write a program which takes  integer inputs from user until he/she presses \"q\"(ask to press q to quit after every integer input). print average and product of all numbers"
   ]
  },
  {
   "cell_type": "code",
   "execution_count": null,
   "id": "81c1e90b",
   "metadata": {},
   "outputs": [],
   "source": []
  },
  {
   "cell_type": "markdown",
   "id": "96440560",
   "metadata": {},
   "source": [
    "# 12. write a python program which will remove all digits or any other characters from the string execpt alphabets."
   ]
  },
  {
   "cell_type": "code",
   "execution_count": 6,
   "id": "672982e3",
   "metadata": {},
   "outputs": [
    {
     "name": "stdout",
     "output_type": "stream",
     "text": [
      "enter the string  python3.54\n"
     ]
    },
    {
     "ename": "TypeError",
     "evalue": "map() must have at least two arguments.",
     "output_type": "error",
     "traceback": [
      "\u001b[1;31m---------------------------------------------------------------------------\u001b[0m",
      "\u001b[1;31mTypeError\u001b[0m                                 Traceback (most recent call last)",
      "Cell \u001b[1;32mIn[6], line 3\u001b[0m\n\u001b[0;32m      1\u001b[0m string\u001b[38;5;241m=\u001b[39m\u001b[38;5;28minput\u001b[39m(\u001b[38;5;124m\"\u001b[39m\u001b[38;5;124menter the string  \u001b[39m\u001b[38;5;124m\"\u001b[39m)\n\u001b[0;32m      2\u001b[0m x\u001b[38;5;241m=\u001b[39m\u001b[38;5;28mlist\u001b[39m(\u001b[38;5;28mfilter\u001b[39m(\u001b[38;5;28;01mlambda\u001b[39;00m i:i\u001b[38;5;241m.\u001b[39misalpha(),string))\n\u001b[1;32m----> 3\u001b[0m my_string\u001b[38;5;241m=\u001b[39m\u001b[38;5;124m'\u001b[39m\u001b[38;5;124m \u001b[39m\u001b[38;5;124m'\u001b[39m\u001b[38;5;241m.\u001b[39mjoin(\u001b[38;5;28mmap\u001b[39m(x))\n\u001b[0;32m      4\u001b[0m \u001b[38;5;28mprint\u001b[39m(my_string)\n",
      "\u001b[1;31mTypeError\u001b[0m: map() must have at least two arguments."
     ]
    }
   ],
   "source": [
    "string=input(\"enter the string  \")\n",
    "x=list(filter(lambda i:i.isalpha(),string))\n",
    "my_string=' '.join(map(x))\n",
    "print(my_string)"
   ]
  },
  {
   "cell_type": "markdown",
   "id": "bf45c90d",
   "metadata": {},
   "source": [
    "# 13. write a python program to find the sum of all even numbers from 0 to 10"
   ]
  },
  {
   "cell_type": "code",
   "execution_count": 8,
   "id": "4dbd51d4",
   "metadata": {},
   "outputs": [
    {
     "name": "stdout",
     "output_type": "stream",
     "text": [
      "0\n",
      "not a even number\n",
      "2\n",
      "not a even number\n",
      "4\n",
      "not a even number\n",
      "6\n",
      "not a even number\n",
      "8\n",
      "not a even number\n"
     ]
    }
   ],
   "source": [
    "for x in range(0,10):\n",
    "    if x%2==0:\n",
    "        print(x)\n",
    "    else:\n",
    "        print(\"not a even number\")"
   ]
  },
  {
   "cell_type": "markdown",
   "id": "8e107130",
   "metadata": {},
   "source": [
    "# 14.write a python program which will accept a digit and print all the numbers before it till 0"
   ]
  },
  {
   "cell_type": "code",
   "execution_count": 1,
   "id": "fcb998b2",
   "metadata": {},
   "outputs": [
    {
     "name": "stdout",
     "output_type": "stream",
     "text": [
      "enter a number  2\n"
     ]
    }
   ],
   "source": [
    "number = int(input(\"enter a number  \"))\n",
    "def f(x):\n",
    "    if x>0:\n",
    "        print(x)\n",
    "    else:\n",
    "        return x*f(x-1)\n",
    "    \n",
    "    for y in range(x):\n",
    "        print(f(y))"
   ]
  },
  {
   "cell_type": "markdown",
   "id": "6b57fd75",
   "metadata": {},
   "source": [
    "# 15.create a dynamic calculator which will run continually till you press \"c\""
   ]
  },
  {
   "cell_type": "code",
   "execution_count": null,
   "id": "3a0a1a3d",
   "metadata": {},
   "outputs": [],
   "source": [
    "    num1=int(input(\"enter a number\"  ))\n",
    "    if num1==\"c\":\n",
    "        break\n",
    "    else:\n",
    "        dig=int(num1)\n",
    "    symbol=input(\"enter a symbol +,*,/,//,-  \")\n",
    "    num2=int(input(\"enter a number\"  ))\n",
    "    if symbol == \"+\":\n",
    "        print(\"{}+{}={}\".format(num1,num2,num1+num2))\n",
    "    elif symbol == \"*\":\n",
    "        print(\"{}*{}={}\".format(num1,num2,num1*num2))\n",
    "    elif symbol == \"-\":\n",
    "        print(\"{}-{}={}\".format(num1,num2,num1-num2))\n",
    "    elif symbol == \"/\":\n",
    "        print(\"{}/{}={}\".format(num1,num2,num1/num2))\n",
    "    elif symbol == \"//\":\n",
    "        print(\"{}//{}={}\".format(num1,num2,num1//num2))\n",
    "    else:\n",
    "        print(\"enter correct answer\")\n",
    "    "
   ]
  },
  {
   "cell_type": "code",
   "execution_count": null,
   "id": "861402fe",
   "metadata": {},
   "outputs": [],
   "source": []
  }
 ],
 "metadata": {
  "kernelspec": {
   "display_name": "Python 3 (ipykernel)",
   "language": "python",
   "name": "python3"
  },
  "language_info": {
   "codemirror_mode": {
    "name": "ipython",
    "version": 3
   },
   "file_extension": ".py",
   "mimetype": "text/x-python",
   "name": "python",
   "nbconvert_exporter": "python",
   "pygments_lexer": "ipython3",
   "version": "3.11.3"
  }
 },
 "nbformat": 4,
 "nbformat_minor": 5
}
