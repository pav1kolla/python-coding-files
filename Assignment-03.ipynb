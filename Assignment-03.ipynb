{
 "cells": [
  {
   "cell_type": "code",
   "execution_count": 1,
   "id": "e18c2591",
   "metadata": {},
   "outputs": [],
   "source": [
    "#Create a python program to print lower case alphabets (a-z) with conditional statement"
   ]
  },
  {
   "cell_type": "code",
   "execution_count": 4,
   "id": "e463d5c8",
   "metadata": {},
   "outputs": [
    {
     "name": "stdout",
     "output_type": "stream",
     "text": [
      "a b c d e f g h i j k l m n o p q r s t u v w x y z "
     ]
    }
   ],
   "source": [
    "x=ord(\"a\")\n",
    "while x<=ord(\"z\"):\n",
    "    print(chr(x),end=\" \")\n",
    "    x=x+1"
   ]
  },
  {
   "cell_type": "code",
   "execution_count": 22,
   "id": "bd75412d",
   "metadata": {},
   "outputs": [
    {
     "name": "stdout",
     "output_type": "stream",
     "text": [
      "Upper case & Lower case:-\n",
      "\n",
      "A B C D E F G H I J K L M N O P Q R S T U V W X Y Z \n",
      "\n",
      "a b c d e f g h i j k l m n o p q r s t u v w x y z "
     ]
    }
   ],
   "source": [
    "x=ord(\"A\")\n",
    "print(\"Upper case & Lower case:-\\n\")\n",
    "while x<=ord(\"Z\"):\n",
    "    print(chr(x),end=\" \")\n",
    "    x=x+1\n",
    "print(\"\\n\") \n",
    "x=ord(\"a\")\n",
    "while x<=ord(\"z\"):\n",
    "    print(chr(x),end=\" \")\n",
    "    \n",
    "    x=x+1"
   ]
  },
  {
   "cell_type": "code",
   "execution_count": null,
   "id": "12b040f3",
   "metadata": {},
   "outputs": [],
   "source": []
  }
 ],
 "metadata": {
  "kernelspec": {
   "display_name": "Python 3 (ipykernel)",
   "language": "python",
   "name": "python3"
  },
  "language_info": {
   "codemirror_mode": {
    "name": "ipython",
    "version": 3
   },
   "file_extension": ".py",
   "mimetype": "text/x-python",
   "name": "python",
   "nbconvert_exporter": "python",
   "pygments_lexer": "ipython3",
   "version": "3.11.3"
  }
 },
 "nbformat": 4,
 "nbformat_minor": 5
}
