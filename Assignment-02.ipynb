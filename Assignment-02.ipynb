{
 "cells": [
  {
   "cell_type": "code",
   "execution_count": 1,
   "id": "ee517aab",
   "metadata": {},
   "outputs": [],
   "source": [
    "# print all the alphabets using while loop"
   ]
  },
  {
   "cell_type": "code",
   "execution_count": 2,
   "id": "e85e561d",
   "metadata": {},
   "outputs": [
    {
     "name": "stdout",
     "output_type": "stream",
     "text": [
      "* * * * \n",
      "*     *\n",
      "*  *  *\n",
      "*     *\n"
     ]
    }
   ],
   "source": [
    "x=1\n",
    "while x<5:\n",
    "    if x==1:\n",
    "        print(\"* * * * \")\n",
    "    elif x==2 or x==4 or x==5:\n",
    "            print(\"*     *\")\n",
    "    else:\n",
    "            print(\"*  *  *\")\n",
    "    x=x+1"
   ]
  },
  {
   "cell_type": "code",
   "execution_count": 18,
   "id": "d1db3b38",
   "metadata": {},
   "outputs": [
    {
     "name": "stdout",
     "output_type": "stream",
     "text": [
      "* * * *\n",
      "*     *\n",
      "* * *\n",
      "*     *\n",
      "* * *\n"
     ]
    }
   ],
   "source": [
    "x=1\n",
    "while x<6:\n",
    "    if x==1:\n",
    "        print(\"* * * *\")\n",
    "    elif x==2 or x==4:\n",
    "            print(\"*     *\")\n",
    "    else:\n",
    "            print(\"* * *\")\n",
    "    x=x+1"
   ]
  },
  {
   "cell_type": "code",
   "execution_count": 28,
   "id": "ad1f4507",
   "metadata": {},
   "outputs": [
    {
     "name": "stdout",
     "output_type": "stream",
     "text": [
      "* * * *\n",
      "*\n",
      "*\n",
      "*\n",
      "* * * *\n"
     ]
    }
   ],
   "source": [
    "x=1\n",
    "while x<6:\n",
    "    if x==1:\n",
    "        print(\"* * * *\")\n",
    "    elif x==5 :\n",
    "            print(\"* * * *\")\n",
    "    else:\n",
    "            print(\"*\")\n",
    "    x=x+1"
   ]
  },
  {
   "cell_type": "code",
   "execution_count": 46,
   "id": "9a917026",
   "metadata": {},
   "outputs": [
    {
     "name": "stdout",
     "output_type": "stream",
     "text": [
      "* * * *\n",
      "*       *\n",
      "*       *\n",
      "*       *\n",
      "* * * *\n"
     ]
    }
   ],
   "source": [
    "x=1\n",
    "while x<6:\n",
    "    if x==1:\n",
    "        print(\"* * * *\")\n",
    "    elif   x==2 or x==3 or x==4:\n",
    "            print(\"*       *\")\n",
    "    else:\n",
    "            print(\"* * * *\")\n",
    "    x=x+1"
   ]
  },
  {
   "cell_type": "code",
   "execution_count": 49,
   "id": "036ebc75",
   "metadata": {},
   "outputs": [
    {
     "name": "stdout",
     "output_type": "stream",
     "text": [
      "* * * *\n",
      "*\n",
      "* * * * \n",
      "*\n",
      "* * * * \n"
     ]
    }
   ],
   "source": [
    "x=1\n",
    "while x<6:\n",
    "    if x==1:\n",
    "        print(\"* * * *\")\n",
    "    elif    x==3 or x==5:\n",
    "            print(\"* * * * \")\n",
    "    else:\n",
    "            print(\"*\")\n",
    "    x=x+1"
   ]
  },
  {
   "cell_type": "code",
   "execution_count": 50,
   "id": "9279d817",
   "metadata": {},
   "outputs": [
    {
     "name": "stdout",
     "output_type": "stream",
     "text": [
      "* * * *\n",
      "*\n",
      "* * * * \n",
      "*\n",
      "*\n"
     ]
    }
   ],
   "source": [
    "x=1\n",
    "while x<6:\n",
    "    if x==1:\n",
    "        print(\"* * * *\")\n",
    "    elif    x==3 :\n",
    "            print(\"* * * * \")\n",
    "    else:\n",
    "            print(\"*\")\n",
    "    x=x+1"
   ]
  },
  {
   "cell_type": "code",
   "execution_count": 74,
   "id": "d1d32a97",
   "metadata": {},
   "outputs": [
    {
     "name": "stdout",
     "output_type": "stream",
     "text": [
      "* * * *\n",
      "*\n",
      "*  * * * \n",
      "*      *\n",
      "*  *  *\n"
     ]
    }
   ],
   "source": [
    "x=1\n",
    "while x<6:\n",
    "    if x==1:\n",
    "        print(\"* * * *\")\n",
    "    elif    x==3 :\n",
    "            print(\"*  * * * \")\n",
    "    elif x==4:\n",
    "        print(\"*      *\")\n",
    "    elif x==5:\n",
    "        print(\"*  *  *\")\n",
    "    else:\n",
    "            print(\"*\")\n",
    "    x=x+1"
   ]
  },
  {
   "cell_type": "code",
   "execution_count": 91,
   "id": "dcf180fd",
   "metadata": {},
   "outputs": [
    {
     "name": "stdout",
     "output_type": "stream",
     "text": [
      "*      *\n",
      "*      *\n",
      "* * *  *\n",
      "*      *\n",
      "*      * \n"
     ]
    }
   ],
   "source": [
    "x=1\n",
    "while x<6:\n",
    "    if x==1:\n",
    "        print(\"*      *\")\n",
    "    elif  x==5:\n",
    "            print(\"*      * \")\n",
    "    elif x==3:\n",
    "        print(\"* * *  *\")\n",
    "    else:\n",
    "            print(\"*      *\")\n",
    "    x=x+1"
   ]
  },
  {
   "cell_type": "code",
   "execution_count": 102,
   "id": "a7a9f79b",
   "metadata": {},
   "outputs": [
    {
     "name": "stdout",
     "output_type": "stream",
     "text": [
      "* * * * *\n",
      "    *  \n",
      "    *  \n",
      "    *  \n",
      "* * * * *\n"
     ]
    }
   ],
   "source": [
    "x=1\n",
    "while x<6:\n",
    "    if x==1:\n",
    "        print(\"* * * * *\")\n",
    "    elif    x==2 or x==2 or x==3 or x==4:\n",
    "            print(\"    *  \")\n",
    "    else:\n",
    "            print(\"* * * * *\")\n",
    "    x=x+1"
   ]
  },
  {
   "cell_type": "code",
   "execution_count": 25,
   "id": "01380c2d",
   "metadata": {},
   "outputs": [
    {
     "name": "stdout",
     "output_type": "stream",
     "text": [
      " * * * * *\n",
      "     *  \n",
      "     *  \n",
      " *   *\n",
      " * * * \n"
     ]
    }
   ],
   "source": [
    "x=1\n",
    "while x<6:\n",
    "    if x==1:\n",
    "        print(\" * * * * *\")\n",
    "    elif x==2 or x==3:\n",
    "        print(\"     *  \")\n",
    "    elif   x==4 :\n",
    "            print(\" *   *\")\n",
    "    else:\n",
    "            print(\" * * * \")\n",
    "    x=x+1"
   ]
  },
  {
   "cell_type": "code",
   "execution_count": 33,
   "id": "a1821b92",
   "metadata": {},
   "outputs": [
    {
     "name": "stdout",
     "output_type": "stream",
     "text": [
      "*    *\n",
      "*  *\n",
      "* *\n",
      "*  *\n",
      "*   *\n"
     ]
    }
   ],
   "source": [
    "x=1\n",
    "while x<6:\n",
    "    if x==1:\n",
    "        print(\"*    *\")\n",
    "    elif x==2 or x==4:\n",
    "        print(\"*  *\")\n",
    "    elif   x==5:\n",
    "            print(\"*   *\")\n",
    "    else:\n",
    "            print(\"* *\")\n",
    "    x=x+1"
   ]
  },
  {
   "cell_type": "code",
   "execution_count": 35,
   "id": "d26ebdc3",
   "metadata": {},
   "outputs": [
    {
     "name": "stdout",
     "output_type": "stream",
     "text": [
      "*\n",
      "*\n",
      "*\n",
      "*\n",
      "* * * *\n"
     ]
    }
   ],
   "source": [
    "x=1\n",
    "while x<6:\n",
    "    if x==1:\n",
    "        print(\"*\")\n",
    "    elif x==2 or x==3:\n",
    "        print(\"*\")\n",
    "    elif   x==4 :\n",
    "            print(\"*\")\n",
    "    else:\n",
    "            print(\"* * * *\")\n",
    "    x=x+1"
   ]
  },
  {
   "cell_type": "code",
   "execution_count": 59,
   "id": "3292d839",
   "metadata": {},
   "outputs": [
    {
     "name": "stdout",
     "output_type": "stream",
     "text": [
      "*      *\n",
      "* *  * *\n",
      "*  *   *\n",
      "*      *\n",
      "*      *\n"
     ]
    }
   ],
   "source": [
    "x=1\n",
    "while x<6:\n",
    "    if x==1:\n",
    "        print(\"*      *\")\n",
    "    elif x==2:\n",
    "        print(\"* *  * *\")\n",
    "    elif   x==3 :\n",
    "            print(\"*  *   *\")\n",
    "    else:\n",
    "            print(\"*      *\")\n",
    "    x=x+1"
   ]
  },
  {
   "cell_type": "code",
   "execution_count": 87,
   "id": "db2f0db0",
   "metadata": {},
   "outputs": [
    {
     "name": "stdout",
     "output_type": "stream",
     "text": [
      "*     *\n",
      "* *   * \n",
      "*  *  *  \n",
      "*   * *  \n",
      "*    *   \n"
     ]
    }
   ],
   "source": [
    "x=1\n",
    "while x<6:\n",
    "    if x==1:\n",
    "        print(\"*     *\")\n",
    "    elif x==2:\n",
    "        print(\"* *   * \")\n",
    "    elif   x==3 :\n",
    "            print(\"*  *  *  \")\n",
    "    elif x==4:\n",
    "        print(\"*   * *  \")\n",
    "    else:\n",
    "            print(\"*    *   \")\n",
    "    x=x+1"
   ]
  },
  {
   "cell_type": "code",
   "execution_count": 119,
   "id": "23b7a911",
   "metadata": {},
   "outputs": [
    {
     "name": "stdout",
     "output_type": "stream",
     "text": [
      "   ***    \n",
      " *     *\n",
      " *     *\n",
      " *     *\n",
      "   ***  \n"
     ]
    }
   ],
   "source": [
    "x=1\n",
    "while x<6:\n",
    "    if x==1:\n",
    "        print(\"   ***    \")\n",
    "    elif x==2:\n",
    "        print(\" *     *\")\n",
    "    elif   x==3 :\n",
    "            print(\" *     *\")\n",
    "    elif x==4:\n",
    "        print(\" *     *\")\n",
    "    else:\n",
    "            print(\"   ***  \")\n",
    "    x=x+1"
   ]
  },
  {
   "cell_type": "code",
   "execution_count": 129,
   "id": "9b1fc4a4",
   "metadata": {},
   "outputs": [
    {
     "name": "stdout",
     "output_type": "stream",
     "text": [
      "* * * *\n",
      "*     *\n",
      "* * * *\n",
      "*\n",
      "*\n"
     ]
    }
   ],
   "source": [
    "x=1\n",
    "while x<6:\n",
    "    if x==1:\n",
    "        print(\"* * * *\")\n",
    "    elif x==2:\n",
    "        print(\"*     *\")\n",
    "    elif   x==3 :\n",
    "            print(\"* * * *\")\n",
    "    else:\n",
    "            print(\"*\")\n",
    "    x=x+1"
   ]
  },
  {
   "cell_type": "code",
   "execution_count": 143,
   "id": "5a770941",
   "metadata": {},
   "outputs": [
    {
     "name": "stdout",
     "output_type": "stream",
     "text": [
      "  ****  \n",
      "*      *\n",
      "*      *\n",
      "*   *  *\n",
      "* ****   *\n"
     ]
    }
   ],
   "source": [
    "x=1\n",
    "while x<6:\n",
    "    if x==1:\n",
    "        print(\"  ****  \")\n",
    "    elif x==2:\n",
    "        print(\"*      *\")\n",
    "    elif   x==3  :\n",
    "            print(\"*      *\")\n",
    "    elif   x==4  :\n",
    "            print(\"*   *  *\")\n",
    "    else:\n",
    "            print(\"* ****   *\")\n",
    "    x=x+1"
   ]
  },
  {
   "cell_type": "code",
   "execution_count": 157,
   "id": "9544bf00",
   "metadata": {},
   "outputs": [
    {
     "name": "stdout",
     "output_type": "stream",
     "text": [
      "* * *\n",
      "*    *\n",
      "* * *\n",
      "*   *\n",
      "*    *\n"
     ]
    }
   ],
   "source": [
    "x=1\n",
    "while x<6:\n",
    "    if x==1:\n",
    "        print(\"* * *\")\n",
    "    elif x==2:\n",
    "        print(\"*    *\")\n",
    "    elif   x==3 :\n",
    "            print(\"* * *\")\n",
    "    elif x==4:\n",
    "        print(\"*   *\")\n",
    "    else:\n",
    "            print(\"*    *\")\n",
    "    x=x+1"
   ]
  },
  {
   "cell_type": "code",
   "execution_count": 1,
   "id": "28f26e91",
   "metadata": {},
   "outputs": [
    {
     "name": "stdout",
     "output_type": "stream",
     "text": [
      "* * * *\n",
      "*\n",
      "* * * *\n",
      "      *\n",
      "* * * *\n"
     ]
    }
   ],
   "source": [
    "x=1\n",
    "while x<6:\n",
    "    if x==1:\n",
    "        print(\"* * * *\")\n",
    "    elif x==2:\n",
    "        print(\"*\")\n",
    "    elif x==3 :\n",
    "            print(\"* * * *\")\n",
    "    elif x==4:\n",
    "        print(\"      *\")\n",
    "    else:\n",
    "            print(\"* * * *\")\n",
    "    x=x+1"
   ]
  },
  {
   "cell_type": "code",
   "execution_count": 4,
   "id": "6f0aeb77",
   "metadata": {},
   "outputs": [
    {
     "name": "stdout",
     "output_type": "stream",
     "text": [
      "* * * * *\n",
      "    *   \n",
      "    *   \n",
      "    *   \n",
      "    *   \n",
      "\n"
     ]
    }
   ],
   "source": [
    "x=1\n",
    "while x<=6:\n",
    "    if x==1:\n",
    "        print(\"* * * * *\")\n",
    "    elif x==2 or x==3 or x==4 or x==5:\n",
    "        print(\"    *   \")\n",
    "    else:\n",
    "        print(\"\")\n",
    "    x=x+1"
   ]
  },
  {
   "cell_type": "code",
   "execution_count": 10,
   "id": "6cd9a653",
   "metadata": {},
   "outputs": [
    {
     "name": "stdout",
     "output_type": "stream",
     "text": [
      "*     *\n",
      "*     *\n",
      "*     *\n",
      "*     *\n",
      " * * *  \n"
     ]
    }
   ],
   "source": [
    "x=1\n",
    "while x<6:\n",
    "    if x==1:\n",
    "        print(\"*     *\")\n",
    "    elif x==2 or x==3 or x==4:\n",
    "        print(\"*     *\")\n",
    "    else:\n",
    "        print(\" * * *  \")\n",
    "    x=x+1"
   ]
  },
  {
   "cell_type": "code",
   "execution_count": 16,
   "id": "dcd45bef",
   "metadata": {},
   "outputs": [
    {
     "name": "stdout",
     "output_type": "stream",
     "text": [
      "*      *\n",
      " *    * \n",
      "  *  *  \n",
      "   *    \n"
     ]
    }
   ],
   "source": [
    "x=1\n",
    "while x<5:\n",
    "    if x==1:\n",
    "        print(\"*      *\")\n",
    "    elif x==2:\n",
    "        print(\" *    * \")\n",
    "    elif x==3:\n",
    "        print(\"  *  *  \")\n",
    "    else:\n",
    "        print(\"   *    \")\n",
    "    x=x+1"
   ]
  },
  {
   "cell_type": "code",
   "execution_count": 23,
   "id": "357a03b4",
   "metadata": {},
   "outputs": [
    {
     "name": "stdout",
     "output_type": "stream",
     "text": [
      "*        *\n",
      "*        *\n",
      "*    *   *\n",
      "*  *  *  *\n",
      "*        *\n"
     ]
    }
   ],
   "source": [
    "x=1\n",
    "while x<6:\n",
    "    if x==1:\n",
    "        print(\"*        *\")\n",
    "    elif x==2:\n",
    "        print(\"*        *\")\n",
    "    elif x==3:\n",
    "        print(\"*    *   *\")\n",
    "    elif x==4:\n",
    "        print(\"*  *  *  *\")\n",
    "    else:\n",
    "        print(\"*        *\")\n",
    "    x=x+1"
   ]
  },
  {
   "cell_type": "code",
   "execution_count": 31,
   "id": "fcf29b56",
   "metadata": {},
   "outputs": [
    {
     "name": "stdout",
     "output_type": "stream",
     "text": [
      "*       *\n",
      "  *   *  \n",
      "    *    \n",
      "  *  *   \n",
      "*       *\n"
     ]
    }
   ],
   "source": [
    "x=1\n",
    "while x<6:\n",
    "    if x==1:\n",
    "        print(\"*       *\")\n",
    "    elif x==2:\n",
    "        print(\"  *   *  \")\n",
    "    elif x==3:\n",
    "        print(\"    *    \")\n",
    "    elif x==4:\n",
    "        print(\"  *  *   \")\n",
    "    else:\n",
    "        print(\"*       *\")\n",
    "    x=x+1"
   ]
  },
  {
   "cell_type": "code",
   "execution_count": 50,
   "id": "53c34fb0",
   "metadata": {},
   "outputs": [
    {
     "name": "stdout",
     "output_type": "stream",
     "text": [
      " *        * \n",
      "  *      * \n",
      "   *   *   \n",
      "     *    \n",
      "     *    \n",
      "     *    \n"
     ]
    }
   ],
   "source": [
    "x=1\n",
    "while x<7:\n",
    "    if x==1:\n",
    "        print(\" *        * \")\n",
    "    elif x==2:\n",
    "        print(\"  *      * \")\n",
    "    elif x==3:\n",
    "        print(\"   *   *   \")\n",
    "    else:\n",
    "        print(\"     *    \")\n",
    "    x=x+1"
   ]
  },
  {
   "cell_type": "code",
   "execution_count": 54,
   "id": "bc37a245",
   "metadata": {},
   "outputs": [
    {
     "name": "stdout",
     "output_type": "stream",
     "text": [
      "* * * *\n",
      "   *   \n",
      " *     \n",
      "* * * *\n"
     ]
    }
   ],
   "source": [
    "x=1\n",
    "while x<5:\n",
    "    if x==1:\n",
    "        print(\"* * * *\")\n",
    "    elif x==2:\n",
    "        print(\"   *   \")\n",
    "    elif x==3:\n",
    "        print(\" *     \")\n",
    "    elif x==4:\n",
    "        print(\"* * * *\")\n",
    "    else:\n",
    "        print(\"\")\n",
    "    x=x+1"
   ]
  },
  {
   "cell_type": "code",
   "execution_count": null,
   "id": "61d29d3b",
   "metadata": {},
   "outputs": [],
   "source": []
  }
 ],
 "metadata": {
  "kernelspec": {
   "display_name": "Python 3 (ipykernel)",
   "language": "python",
   "name": "python3"
  },
  "language_info": {
   "codemirror_mode": {
    "name": "ipython",
    "version": 3
   },
   "file_extension": ".py",
   "mimetype": "text/x-python",
   "name": "python",
   "nbconvert_exporter": "python",
   "pygments_lexer": "ipython3",
   "version": "3.11.3"
  }
 },
 "nbformat": 4,
 "nbformat_minor": 5
}
