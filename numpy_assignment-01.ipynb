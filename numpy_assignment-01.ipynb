{
 "cells": [
  {
   "cell_type": "markdown",
   "id": "9e6fa72b",
   "metadata": {},
   "source": [
    "# 1. write a program to create a 5 dimensional array with all zeros and ones"
   ]
  },
  {
   "cell_type": "code",
   "execution_count": 2,
   "id": "41dd4397",
   "metadata": {},
   "outputs": [],
   "source": [
    "import numpy as np"
   ]
  },
  {
   "cell_type": "code",
   "execution_count": 143,
   "id": "1841f9cc",
   "metadata": {},
   "outputs": [],
   "source": [
    "x1=np.zeros((5,5),dtype=int)"
   ]
  },
  {
   "cell_type": "code",
   "execution_count": 145,
   "id": "254fd361",
   "metadata": {},
   "outputs": [],
   "source": [
    "y=np.array(x1,ndmin=5)"
   ]
  },
  {
   "cell_type": "code",
   "execution_count": 146,
   "id": "f7419774",
   "metadata": {},
   "outputs": [
    {
     "data": {
      "text/plain": [
       "array([[[[[0, 0, 0, 0, 0],\n",
       "          [0, 0, 0, 0, 0],\n",
       "          [0, 0, 0, 0, 0],\n",
       "          [0, 0, 0, 0, 0],\n",
       "          [0, 0, 0, 0, 0]]]]])"
      ]
     },
     "execution_count": 146,
     "metadata": {},
     "output_type": "execute_result"
    }
   ],
   "source": [
    "y"
   ]
  },
  {
   "cell_type": "code",
   "execution_count": 147,
   "id": "9d44b3d1",
   "metadata": {},
   "outputs": [],
   "source": [
    "x2=np.ones((5,5),dtype=int)\n",
    "y1=np.array(x2,ndmin=5)"
   ]
  },
  {
   "cell_type": "code",
   "execution_count": 148,
   "id": "fb0f46a5",
   "metadata": {},
   "outputs": [
    {
     "data": {
      "text/plain": [
       "array([[[[[1, 1, 1, 1, 1],\n",
       "          [1, 1, 1, 1, 1],\n",
       "          [1, 1, 1, 1, 1],\n",
       "          [1, 1, 1, 1, 1],\n",
       "          [1, 1, 1, 1, 1]]]]])"
      ]
     },
     "execution_count": 148,
     "metadata": {},
     "output_type": "execute_result"
    }
   ],
   "source": [
    "y1"
   ]
  },
  {
   "cell_type": "markdown",
   "id": "cd181b7f",
   "metadata": {},
   "source": [
    "# 2.write a program to create an array of 10 zeros,10 ones, and 10 fives in row 1 2 and 3 which create a new array of shape (3,10)"
   ]
  },
  {
   "cell_type": "code",
   "execution_count": null,
   "id": "2e2f4b49",
   "metadata": {},
   "outputs": [],
   "source": []
  },
  {
   "cell_type": "code",
   "execution_count": 149,
   "id": "9c3cdea2",
   "metadata": {},
   "outputs": [],
   "source": [
    "x=np.zeros(10,)\n",
    "x1=np.ones(10,)\n",
    "x2=np.ones(10,)*5"
   ]
  },
  {
   "cell_type": "code",
   "execution_count": 153,
   "id": "b24b98c4",
   "metadata": {},
   "outputs": [],
   "source": [
    "y=np.array((x,x1,x2),dtype=int).reshape(3,10)"
   ]
  },
  {
   "cell_type": "code",
   "execution_count": 154,
   "id": "9cebae20",
   "metadata": {},
   "outputs": [
    {
     "data": {
      "text/plain": [
       "array([[0, 0, 0, 0, 0, 0, 0, 0, 0, 0],\n",
       "       [1, 1, 1, 1, 1, 1, 1, 1, 1, 1],\n",
       "       [5, 5, 5, 5, 5, 5, 5, 5, 5, 5]])"
      ]
     },
     "execution_count": 154,
     "metadata": {},
     "output_type": "execute_result"
    }
   ],
   "source": [
    "y"
   ]
  },
  {
   "cell_type": "code",
   "execution_count": null,
   "id": "7987cd6c",
   "metadata": {},
   "outputs": [],
   "source": []
  },
  {
   "cell_type": "markdown",
   "id": "c2461092",
   "metadata": {},
   "source": [
    "# 3. write a program to create a 3*4 matrix filled with values from 10 to 21"
   ]
  },
  {
   "cell_type": "code",
   "execution_count": 62,
   "id": "ad6c70c6",
   "metadata": {},
   "outputs": [
    {
     "data": {
      "text/plain": [
       "array([[10, 11, 12, 13],\n",
       "       [14, 15, 16, 17],\n",
       "       [18, 19, 20, 21]])"
      ]
     },
     "execution_count": 62,
     "metadata": {},
     "output_type": "execute_result"
    }
   ],
   "source": [
    "np.arange(10,22).reshape(3,4)"
   ]
  },
  {
   "cell_type": "markdown",
   "id": "bde0e9b1",
   "metadata": {},
   "source": [
    "# 4. write a program to create a 10*10 zero matrix with elements on the main diagnol equal to 0,1,2,3,4,5,6,7,8,9,"
   ]
  },
  {
   "cell_type": "code",
   "execution_count": 63,
   "id": "5423d422",
   "metadata": {},
   "outputs": [
    {
     "data": {
      "text/plain": [
       "array([[0, 0, 0, 0, 0, 0, 0, 0, 0, 0],\n",
       "       [0, 1, 0, 0, 0, 0, 0, 0, 0, 0],\n",
       "       [0, 0, 2, 0, 0, 0, 0, 0, 0, 0],\n",
       "       [0, 0, 0, 3, 0, 0, 0, 0, 0, 0],\n",
       "       [0, 0, 0, 0, 4, 0, 0, 0, 0, 0],\n",
       "       [0, 0, 0, 0, 0, 5, 0, 0, 0, 0],\n",
       "       [0, 0, 0, 0, 0, 0, 6, 0, 0, 0],\n",
       "       [0, 0, 0, 0, 0, 0, 0, 7, 0, 0],\n",
       "       [0, 0, 0, 0, 0, 0, 0, 0, 8, 0],\n",
       "       [0, 0, 0, 0, 0, 0, 0, 0, 0, 9]])"
      ]
     },
     "execution_count": 63,
     "metadata": {},
     "output_type": "execute_result"
    }
   ],
   "source": [
    "np.diag([0,1,2,3,4,5,6,7,8,9])"
   ]
  },
  {
   "cell_type": "markdown",
   "id": "6a5c14e4",
   "metadata": {},
   "source": [
    "# 5. write a program to create a 4*4 array. create an array from below array by swapping first and last, second and third columns."
   ]
  },
  {
   "cell_type": "code",
   "execution_count": 65,
   "id": "4766ac43",
   "metadata": {},
   "outputs": [],
   "source": [
    "x=np.arange(1,17).reshape(4,4)"
   ]
  },
  {
   "cell_type": "code",
   "execution_count": 66,
   "id": "3849e9c5",
   "metadata": {},
   "outputs": [
    {
     "data": {
      "text/plain": [
       "array([[ 1,  2,  3,  4],\n",
       "       [ 5,  6,  7,  8],\n",
       "       [ 9, 10, 11, 12],\n",
       "       [13, 14, 15, 16]])"
      ]
     },
     "execution_count": 66,
     "metadata": {},
     "output_type": "execute_result"
    }
   ],
   "source": [
    "x"
   ]
  },
  {
   "cell_type": "code",
   "execution_count": 80,
   "id": "35d1777e",
   "metadata": {},
   "outputs": [
    {
     "data": {
      "text/plain": [
       "array([[ 4,  3,  2,  1],\n",
       "       [ 8,  7,  6,  5],\n",
       "       [12, 11, 10,  9],\n",
       "       [16, 15, 14, 13]])"
      ]
     },
     "execution_count": 80,
     "metadata": {},
     "output_type": "execute_result"
    }
   ],
   "source": [
    "x[:,::-1]"
   ]
  },
  {
   "cell_type": "markdown",
   "id": "7a59408b",
   "metadata": {},
   "source": [
    "# 6. write a program to reverse an array(the first element becomes the last).Given array: [12,13,14,15,16,17,18,19,20,21,22,23,24,25,26,27]"
   ]
  },
  {
   "cell_type": "code",
   "execution_count": 81,
   "id": "ecb5051f",
   "metadata": {},
   "outputs": [],
   "source": [
    "x=np.array([12,13,14,15,16,17,18,19,20,21,22,23,24,25,26,27])"
   ]
  },
  {
   "cell_type": "code",
   "execution_count": 82,
   "id": "ac69da0f",
   "metadata": {},
   "outputs": [
    {
     "data": {
      "text/plain": [
       "array([12, 13, 14, 15, 16, 17, 18, 19, 20, 21, 22, 23, 24, 25, 26, 27])"
      ]
     },
     "execution_count": 82,
     "metadata": {},
     "output_type": "execute_result"
    }
   ],
   "source": [
    "x"
   ]
  },
  {
   "cell_type": "code",
   "execution_count": 84,
   "id": "d42cdf1d",
   "metadata": {},
   "outputs": [
    {
     "data": {
      "text/plain": [
       "array([27, 26, 25, 24, 23, 22, 21, 20, 19, 18, 17, 16, 15, 14, 13, 12])"
      ]
     },
     "execution_count": 84,
     "metadata": {},
     "output_type": "execute_result"
    }
   ],
   "source": [
    "x[::-1]"
   ]
  },
  {
   "cell_type": "markdown",
   "id": "24331075",
   "metadata": {},
   "source": [
    "# 7. write a program to access all the elements greater than 30 and less than 80 and multiples of 5 from an array of shape 10, 10 elements range from 1 to 100"
   ]
  },
  {
   "cell_type": "code",
   "execution_count": 86,
   "id": "eb250ca7",
   "metadata": {},
   "outputs": [],
   "source": [
    "x= np.arange(1,101).reshape(10,10)"
   ]
  },
  {
   "cell_type": "code",
   "execution_count": 87,
   "id": "a973e15c",
   "metadata": {},
   "outputs": [
    {
     "data": {
      "text/plain": [
       "array([[  1,   2,   3,   4,   5,   6,   7,   8,   9,  10],\n",
       "       [ 11,  12,  13,  14,  15,  16,  17,  18,  19,  20],\n",
       "       [ 21,  22,  23,  24,  25,  26,  27,  28,  29,  30],\n",
       "       [ 31,  32,  33,  34,  35,  36,  37,  38,  39,  40],\n",
       "       [ 41,  42,  43,  44,  45,  46,  47,  48,  49,  50],\n",
       "       [ 51,  52,  53,  54,  55,  56,  57,  58,  59,  60],\n",
       "       [ 61,  62,  63,  64,  65,  66,  67,  68,  69,  70],\n",
       "       [ 71,  72,  73,  74,  75,  76,  77,  78,  79,  80],\n",
       "       [ 81,  82,  83,  84,  85,  86,  87,  88,  89,  90],\n",
       "       [ 91,  92,  93,  94,  95,  96,  97,  98,  99, 100]])"
      ]
     },
     "execution_count": 87,
     "metadata": {},
     "output_type": "execute_result"
    }
   ],
   "source": [
    "x"
   ]
  },
  {
   "cell_type": "code",
   "execution_count": 97,
   "id": "a0cf3dd6",
   "metadata": {},
   "outputs": [],
   "source": [
    "y=(x>30) & (x<80)"
   ]
  },
  {
   "cell_type": "code",
   "execution_count": 98,
   "id": "719a7838",
   "metadata": {},
   "outputs": [
    {
     "data": {
      "text/plain": [
       "array([[False, False, False, False, False, False, False, False, False,\n",
       "        False],\n",
       "       [False, False, False, False, False, False, False, False, False,\n",
       "        False],\n",
       "       [False, False, False, False, False, False, False, False, False,\n",
       "        False],\n",
       "       [ True,  True,  True,  True,  True,  True,  True,  True,  True,\n",
       "         True],\n",
       "       [ True,  True,  True,  True,  True,  True,  True,  True,  True,\n",
       "         True],\n",
       "       [ True,  True,  True,  True,  True,  True,  True,  True,  True,\n",
       "         True],\n",
       "       [ True,  True,  True,  True,  True,  True,  True,  True,  True,\n",
       "         True],\n",
       "       [ True,  True,  True,  True,  True,  True,  True,  True,  True,\n",
       "        False],\n",
       "       [False, False, False, False, False, False, False, False, False,\n",
       "        False],\n",
       "       [False, False, False, False, False, False, False, False, False,\n",
       "        False]])"
      ]
     },
     "execution_count": 98,
     "metadata": {},
     "output_type": "execute_result"
    }
   ],
   "source": [
    "y"
   ]
  },
  {
   "cell_type": "code",
   "execution_count": 100,
   "id": "3880681d",
   "metadata": {},
   "outputs": [],
   "source": [
    "z=x[y]"
   ]
  },
  {
   "cell_type": "code",
   "execution_count": 101,
   "id": "d4ff9bb2",
   "metadata": {},
   "outputs": [
    {
     "data": {
      "text/plain": [
       "array([31, 32, 33, 34, 35, 36, 37, 38, 39, 40, 41, 42, 43, 44, 45, 46, 47,\n",
       "       48, 49, 50, 51, 52, 53, 54, 55, 56, 57, 58, 59, 60, 61, 62, 63, 64,\n",
       "       65, 66, 67, 68, 69, 70, 71, 72, 73, 74, 75, 76, 77, 78, 79])"
      ]
     },
     "execution_count": 101,
     "metadata": {},
     "output_type": "execute_result"
    }
   ],
   "source": [
    "z"
   ]
  },
  {
   "cell_type": "code",
   "execution_count": 102,
   "id": "26310230",
   "metadata": {},
   "outputs": [],
   "source": [
    "a=(z%5==0)"
   ]
  },
  {
   "cell_type": "code",
   "execution_count": 103,
   "id": "93bb9518",
   "metadata": {},
   "outputs": [
    {
     "data": {
      "text/plain": [
       "array([False, False, False, False,  True, False, False, False, False,\n",
       "        True, False, False, False, False,  True, False, False, False,\n",
       "       False,  True, False, False, False, False,  True, False, False,\n",
       "       False, False,  True, False, False, False, False,  True, False,\n",
       "       False, False, False,  True, False, False, False, False,  True,\n",
       "       False, False, False, False])"
      ]
     },
     "execution_count": 103,
     "metadata": {},
     "output_type": "execute_result"
    }
   ],
   "source": [
    "a"
   ]
  },
  {
   "cell_type": "code",
   "execution_count": 107,
   "id": "f8db33ea",
   "metadata": {},
   "outputs": [
    {
     "data": {
      "text/plain": [
       "array([35, 40, 45, 50, 55, 60, 65, 70, 75])"
      ]
     },
     "execution_count": 107,
     "metadata": {},
     "output_type": "execute_result"
    }
   ],
   "source": [
    "z[a]"
   ]
  },
  {
   "cell_type": "markdown",
   "id": "c665a1dc",
   "metadata": {},
   "source": [
    "# 8. write a program to create a 2D array with 1 on the border and 0 inside."
   ]
  },
  {
   "cell_type": "code",
   "execution_count": 108,
   "id": "987ae241",
   "metadata": {},
   "outputs": [],
   "source": [
    "x=np.ones((5,5))"
   ]
  },
  {
   "cell_type": "code",
   "execution_count": 109,
   "id": "063b449c",
   "metadata": {},
   "outputs": [
    {
     "data": {
      "text/plain": [
       "array([[1., 1., 1., 1., 1.],\n",
       "       [1., 1., 1., 1., 1.],\n",
       "       [1., 1., 1., 1., 1.],\n",
       "       [1., 1., 1., 1., 1.],\n",
       "       [1., 1., 1., 1., 1.]])"
      ]
     },
     "execution_count": 109,
     "metadata": {},
     "output_type": "execute_result"
    }
   ],
   "source": [
    "x"
   ]
  },
  {
   "cell_type": "code",
   "execution_count": 110,
   "id": "92b6c286",
   "metadata": {},
   "outputs": [],
   "source": [
    "x[1:-1,1:-1]=0"
   ]
  },
  {
   "cell_type": "code",
   "execution_count": 111,
   "id": "1b796224",
   "metadata": {},
   "outputs": [
    {
     "data": {
      "text/plain": [
       "array([[1., 1., 1., 1., 1.],\n",
       "       [1., 0., 0., 0., 1.],\n",
       "       [1., 0., 0., 0., 1.],\n",
       "       [1., 0., 0., 0., 1.],\n",
       "       [1., 1., 1., 1., 1.]])"
      ]
     },
     "execution_count": 111,
     "metadata": {},
     "output_type": "execute_result"
    }
   ],
   "source": [
    "x"
   ]
  },
  {
   "cell_type": "markdown",
   "id": "18a5ce19",
   "metadata": {},
   "source": [
    "# 9.write a program to create a checkpoint pattern. don't use default array function checkerboard pattern:\n",
    "[[0 1 0 1 0 1 0 1]\n",
    " [1 0 1 0 1 0 1 0]\n",
    " [0 1 0 1 0 1 0 1]\n",
    " [1 0 1 0 1 0 1 0]\n",
    " [0 1 0 1 0 1 0 1]\n",
    " [1 0 1 0 1 0 1 0]\n",
    " [0 1 0 1 0 1 0 1]\n",
    " [1 0 1 0 1 0 1 0]]"
   ]
  },
  {
   "cell_type": "code",
   "execution_count": null,
   "id": "49210e81",
   "metadata": {},
   "outputs": [],
   "source": []
  },
  {
   "cell_type": "markdown",
   "id": "c1272461",
   "metadata": {},
   "source": [
    "# 10. write a program to find common values between two arrays."
   ]
  },
  {
   "cell_type": "code",
   "execution_count": 134,
   "id": "74cb4317",
   "metadata": {},
   "outputs": [],
   "source": [
    "y1=np.array([10,20,40,60])\n",
    "y2=np.array([10,20,40,50,60])"
   ]
  },
  {
   "cell_type": "code",
   "execution_count": 137,
   "id": "deb1223e",
   "metadata": {},
   "outputs": [
    {
     "name": "stdout",
     "output_type": "stream",
     "text": [
      "Array1:  [10 20 40 60]\n",
      "Array2:  [10 20 40 50 60]\n",
      "[10 20 40 60]\n"
     ]
    }
   ],
   "source": [
    "print(\"Array1: \",y1)\n",
    "print(\"Array2: \",y2)\n",
    "print(y1&y1)"
   ]
  },
  {
   "cell_type": "markdown",
   "id": "00259e63",
   "metadata": {},
   "source": [
    "# 11. write a program to create an array 2d array and then reshape into 1d array"
   ]
  },
  {
   "cell_type": "code",
   "execution_count": 114,
   "id": "f3f9e297",
   "metadata": {},
   "outputs": [],
   "source": [
    "x=np.arange(1,11).reshape(5,2)"
   ]
  },
  {
   "cell_type": "code",
   "execution_count": 115,
   "id": "030a25f3",
   "metadata": {},
   "outputs": [
    {
     "data": {
      "text/plain": [
       "array([[ 1,  2],\n",
       "       [ 3,  4],\n",
       "       [ 5,  6],\n",
       "       [ 7,  8],\n",
       "       [ 9, 10]])"
      ]
     },
     "execution_count": 115,
     "metadata": {},
     "output_type": "execute_result"
    }
   ],
   "source": [
    "x"
   ]
  },
  {
   "cell_type": "code",
   "execution_count": 118,
   "id": "5c500ab2",
   "metadata": {},
   "outputs": [
    {
     "data": {
      "text/plain": [
       "array([ 1,  2,  3,  4,  5,  6,  7,  8,  9, 10])"
      ]
     },
     "execution_count": 118,
     "metadata": {},
     "output_type": "execute_result"
    }
   ],
   "source": [
    "x.flatten()"
   ]
  },
  {
   "cell_type": "markdown",
   "id": "4ff36dc4",
   "metadata": {},
   "source": [
    "# 12. write a user defined function for creating a 1 or 2d array from scratch without using array functions"
   ]
  },
  {
   "cell_type": "code",
   "execution_count": null,
   "id": "0126908d",
   "metadata": {},
   "outputs": [],
   "source": []
  }
 ],
 "metadata": {
  "kernelspec": {
   "display_name": "Python 3 (ipykernel)",
   "language": "python",
   "name": "python3"
  },
  "language_info": {
   "codemirror_mode": {
    "name": "ipython",
    "version": 3
   },
   "file_extension": ".py",
   "mimetype": "text/x-python",
   "name": "python",
   "nbconvert_exporter": "python",
   "pygments_lexer": "ipython3",
   "version": "3.11.3"
  }
 },
 "nbformat": 4,
 "nbformat_minor": 5
}
