{
 "cells": [
  {
   "cell_type": "code",
   "execution_count": 1,
   "id": "6a2c2d1c",
   "metadata": {},
   "outputs": [],
   "source": [
    "# 1.write a program to accept two numbers from the user and calculate multiplication, division"
   ]
  },
  {
   "cell_type": "code",
   "execution_count": 5,
   "id": "05ec9bc6",
   "metadata": {},
   "outputs": [
    {
     "name": "stdout",
     "output_type": "stream",
     "text": [
      "enter the number1   2\n",
      "enter the number2   4\n",
      "Multiplication of tw numbers is 2*4=8\n",
      "Division of tw numbers is 2/4=0.5\n"
     ]
    }
   ],
   "source": [
    "x=int(input(\"enter the number1   \"))\n",
    "y=int(input(\"enter the number2   \"))\n",
    "z=print(\"Multiplication of tw numbers is {}*{}={}\".format(x,y,x*y))\n",
    "l=print(\"Division of tw numbers is {}/{}={}\".format(x,y,x/y))"
   ]
  },
  {
   "cell_type": "markdown",
   "id": "d85d9184",
   "metadata": {},
   "source": [
    "# 2.write a python program to print the characters from a string that are present at an even index"
   ]
  },
  {
   "cell_type": "code",
   "execution_count": null,
   "id": "19c5db7e",
   "metadata": {},
   "outputs": [],
   "source": []
  },
  {
   "cell_type": "code",
   "execution_count": 8,
   "id": "ada66c70",
   "metadata": {},
   "outputs": [],
   "source": [
    "string=\"python\""
   ]
  },
  {
   "cell_type": "code",
   "execution_count": 9,
   "id": "0fb3640f",
   "metadata": {},
   "outputs": [
    {
     "name": "stdout",
     "output_type": "stream",
     "text": [
      "p\n",
      "t\n",
      "o\n"
     ]
    }
   ],
   "source": [
    "for y in range(len(string)):\n",
    "    if y%2==0:\n",
    "        print(string[y])"
   ]
  },
  {
   "cell_type": "markdown",
   "id": "d25249f2",
   "metadata": {},
   "source": [
    "# 3.write a program to print characters from a string that are present at an odd index"
   ]
  },
  {
   "cell_type": "code",
   "execution_count": 10,
   "id": "7f1a4bd3",
   "metadata": {},
   "outputs": [],
   "source": [
    "string=\"python\""
   ]
  },
  {
   "cell_type": "code",
   "execution_count": 11,
   "id": "267ac3f5",
   "metadata": {},
   "outputs": [
    {
     "name": "stdout",
     "output_type": "stream",
     "text": [
      "y\n",
      "h\n",
      "n\n"
     ]
    }
   ],
   "source": [
    "for y in range(len(string)):\n",
    "    if y%2!=0:\n",
    "        print(string[y])"
   ]
  },
  {
   "cell_type": "markdown",
   "id": "679b9307",
   "metadata": {},
   "source": [
    "# 4.write a python program which will print the sum of the two numbers if the two numbers are even or it will print the difference of two numbers"
   ]
  },
  {
   "cell_type": "code",
   "execution_count": 12,
   "id": "ba0fde4d",
   "metadata": {},
   "outputs": [
    {
     "name": "stdout",
     "output_type": "stream",
     "text": [
      "enter the number1  2\n",
      "enter the number2  4\n",
      "sum of the two numbers is 2+4=6\n"
     ]
    }
   ],
   "source": [
    "num1=int(input(\"enter the number1  \"))\n",
    "num2=int(input(\"enter the number2  \"))\n",
    "if num1%2==0:\n",
    "    print(\"sum of the two numbers is {}+{}={}\".format(num1,num2,num1+num2))\n",
    "elif num2%2==0:\n",
    "    print(\"sum of the two numbers is {}+{}={}\".format(num1,num2,num1+num2))\n",
    "else:\n",
    "    print(\"difference of two numbers is {}-{}={}\".format(num1,num2,num1-num2))\n",
    "    "
   ]
  },
  {
   "cell_type": "code",
   "execution_count": 13,
   "id": "91bae70c",
   "metadata": {},
   "outputs": [
    {
     "name": "stdout",
     "output_type": "stream",
     "text": [
      "enter the number1  5\n",
      "enter the number2  7\n",
      "difference of two numbers is 5-7=-2\n"
     ]
    }
   ],
   "source": [
    "num1=int(input(\"enter the number1  \"))\n",
    "num2=int(input(\"enter the number2  \"))\n",
    "if num1%2==0:\n",
    "    print(\"sum of the two numbers is {}+{}={}\".format(num1,num2,num1+num2))\n",
    "elif num2%2==0:\n",
    "    print(\"sum of the two numbers is {}+{}={}\".format(num1,num2,num1+num2))\n",
    "else:\n",
    "    print(\"difference of two numbers is {}-{}={}\".format(num1,num2,num1-num2))\n",
    "    "
   ]
  },
  {
   "cell_type": "markdown",
   "id": "2a78a59b",
   "metadata": {},
   "source": [
    "# 5.write a python program to convert all even indexed alphabets to upper and odd indexed char"
   ]
  },
  {
   "cell_type": "code",
   "execution_count": 14,
   "id": "630015e8",
   "metadata": {},
   "outputs": [],
   "source": [
    "string=\"python\""
   ]
  },
  {
   "cell_type": "code",
   "execution_count": 26,
   "id": "e35d4db8",
   "metadata": {},
   "outputs": [
    {
     "name": "stdout",
     "output_type": "stream",
     "text": [
      "PyThOn\n"
     ]
    }
   ],
   "source": [
    "y=\"\"\n",
    "for x in range(0,len(string)):\n",
    "    if x%2==0:\n",
    "        y=y+string[x].upper()\n",
    "    else:\n",
    "        y=y+string[x].lower()\n",
    "print(y)"
   ]
  },
  {
   "cell_type": "markdown",
   "id": "a27898b3",
   "metadata": {},
   "source": [
    "# 6.write a program which will print True if the input number is divisible by 5 or else False"
   ]
  },
  {
   "cell_type": "code",
   "execution_count": 16,
   "id": "7f9bbb04",
   "metadata": {},
   "outputs": [
    {
     "name": "stdout",
     "output_type": "stream",
     "text": [
      "enter the number 50\n",
      "True\n"
     ]
    }
   ],
   "source": [
    "num = int(input(\"enter the number \"))\n",
    "if num%5==0:\n",
    "    print(\"True\")\n",
    "else:\n",
    "    print(\"False\")"
   ]
  },
  {
   "cell_type": "code",
   "execution_count": 17,
   "id": "5bf4d711",
   "metadata": {},
   "outputs": [
    {
     "name": "stdout",
     "output_type": "stream",
     "text": [
      "enter the number 4\n",
      "False\n"
     ]
    }
   ],
   "source": [
    "num = int(input(\"enter the number \"))\n",
    "if num%5==0:\n",
    "    print(\"True\")\n",
    "else:\n",
    "    print(\"False\")"
   ]
  },
  {
   "cell_type": "markdown",
   "id": "1ac0fc49",
   "metadata": {},
   "source": [
    "# 7.Given two integer numbers return thier product only if the product is greater than 1000,else return their sum"
   ]
  },
  {
   "cell_type": "code",
   "execution_count": 18,
   "id": "b33a7714",
   "metadata": {},
   "outputs": [
    {
     "name": "stdout",
     "output_type": "stream",
     "text": [
      "enter the number1  10\n",
      "enter the number2  101\n",
      "product of two numbers is 10*101=1010\n"
     ]
    }
   ],
   "source": [
    "num1 =int(input(\"enter the number1  \"))\n",
    "num2 =int(input(\"enter the number2  \"))\n",
    "if num1*num2>1000:\n",
    "    print(\"product of two numbers is {}*{}={}\".format(num1,num2,num1*num2))\n",
    "else:\n",
    "    print(\"sum of two numbers is {}+{}={}\".format(num1,num2,num1+num2))"
   ]
  },
  {
   "cell_type": "code",
   "execution_count": 19,
   "id": "8087ec90",
   "metadata": {},
   "outputs": [
    {
     "name": "stdout",
     "output_type": "stream",
     "text": [
      "enter the number1  1\n",
      "enter the number2  5\n",
      "sum of two numbers is 1+5=6\n"
     ]
    }
   ],
   "source": [
    "num1 =int(input(\"enter the number1  \"))\n",
    "num2 =int(input(\"enter the number2  \"))\n",
    "if num1*num2>1000:\n",
    "    print(\"product of two numbers is {}*{}={}\".format(num1,num2,num1*num2))\n",
    "else:\n",
    "    print(\"sum of two numbers is {}+{}={}\".format(num1,num2,num1+num2))"
   ]
  },
  {
   "cell_type": "markdown",
   "id": "89a111a6",
   "metadata": {},
   "source": [
    "# 8.Given two strings x,y writes a program to return a new string made of x and y's first, middle, and last characters"
   ]
  },
  {
   "cell_type": "code",
   "execution_count": null,
   "id": "6ea33b2c",
   "metadata": {},
   "outputs": [],
   "source": []
  },
  {
   "cell_type": "code",
   "execution_count": 23,
   "id": "3af557be",
   "metadata": {},
   "outputs": [
    {
     "name": "stdout",
     "output_type": "stream",
     "text": [
      "enter the string  pytho\n",
      "enter the string  javas\n",
      "pjtvos\n"
     ]
    }
   ],
   "source": [
    "k=input(\"enter the string  \")\n",
    "p=input(\"enter the string  \")\n",
    "j=len(k)//2\n",
    "l=len(p)//2\n",
    "print(k[0]+p[0]+k[j]+p[l]+k[-1]+p[-1])"
   ]
  },
  {
   "cell_type": "code",
   "execution_count": null,
   "id": "4d70f88a",
   "metadata": {},
   "outputs": [],
   "source": []
  },
  {
   "cell_type": "markdown",
   "id": "b31564d0",
   "metadata": {},
   "source": [
    "# 9.write a python program to take three names as input from a user in the single input () function call "
   ]
  },
  {
   "cell_type": "code",
   "execution_count": 3,
   "id": "3f7d837a",
   "metadata": {},
   "outputs": [
    {
     "name": "stdout",
     "output_type": "stream",
     "text": [
      "enter the namespavan kalyan kolla\n",
      "Name1 :- pavan\n",
      "Name2 :- kalyan\n",
      "Name3 :- kolla\n"
     ]
    }
   ],
   "source": [
    "nam=input(\"enter the names\")\n",
    "names = nam.split()\n",
    "if len(names)==3:\n",
    "    print(\"Name1 :- {}\".format(names[0]))\n",
    "    print(\"Name2 :- {}\".format(names[1]))\n",
    "    print(\"Name3 :- {}\".format(names[2]))\n",
    "else:\n",
    "    print(\"enter the three names\")"
   ]
  },
  {
   "cell_type": "code",
   "execution_count": null,
   "id": "7047bab7",
   "metadata": {},
   "outputs": [],
   "source": []
  },
  {
   "cell_type": "markdown",
   "id": "1d8d0665",
   "metadata": {},
   "source": [
    "# 10.write a python program to get a string from a given string where all occurences of its first char have been changed to '@', except the first char itself."
   ]
  },
  {
   "cell_type": "code",
   "execution_count": 10,
   "id": "60f4aaa0",
   "metadata": {},
   "outputs": [
    {
     "name": "stdout",
     "output_type": "stream",
     "text": [
      "enter the name  malayalam\n",
      "malayala@\n"
     ]
    }
   ],
   "source": [
    "string=input(\"enter the name  \")\n",
    "char=string[0]\n",
    "new_string=char+string[1:].replace(char,\"@\")\n",
    "print(new_string)"
   ]
  },
  {
   "cell_type": "code",
   "execution_count": null,
   "id": "ca7b01ae",
   "metadata": {},
   "outputs": [],
   "source": []
  },
  {
   "cell_type": "markdown",
   "id": "0823ad55",
   "metadata": {},
   "source": [
    "# 11. write a python program to add 'ing' at the end of a given string (string length should be equal to or more than 3).if the given string already with 'ing'then add 'ly' instead.if the string length of the given string is less than 3, leave it unchanged"
   ]
  },
  {
   "cell_type": "code",
   "execution_count": 13,
   "id": "08936b81",
   "metadata": {},
   "outputs": [
    {
     "name": "stdout",
     "output_type": "stream",
     "text": [
      "enter the string  playing\n",
      "playly\n"
     ]
    }
   ],
   "source": [
    "string=input(\"enter the string  \")\n",
    "if len(string)<3:\n",
    "    print(string)\n",
    "elif string[-1]==\"g\" and string[-2]==\"n\" and string[-3]==\"i\":\n",
    "    print(string.replace(string[-3:],\"ly\"))\n",
    "else:\n",
    "    print(string+\"ing\")"
   ]
  },
  {
   "cell_type": "code",
   "execution_count": 14,
   "id": "462db1fd",
   "metadata": {},
   "outputs": [
    {
     "name": "stdout",
     "output_type": "stream",
     "text": [
      "enter the string  on\n",
      "on\n"
     ]
    }
   ],
   "source": [
    "string=input(\"enter the string  \")\n",
    "if len(string)<3:\n",
    "    print(string)\n",
    "elif string[-1]==\"g\" and string[-2]==\"n\" and string[-3]==\"i\":\n",
    "    print(string.replace(string[-3:],\"ly\"))\n",
    "else:\n",
    "    print(string+\"ing\")"
   ]
  },
  {
   "cell_type": "markdown",
   "id": "f5a18e9d",
   "metadata": {},
   "source": []
  },
  {
   "cell_type": "code",
   "execution_count": null,
   "id": "78487073",
   "metadata": {},
   "outputs": [],
   "source": []
  },
  {
   "cell_type": "markdown",
   "id": "9b49100d",
   "metadata": {},
   "source": [
    "# 12. write a python that accepts two inputs num1 and num2 print True if one of them is 10 or if their sum is 10 otherwise print False"
   ]
  },
  {
   "cell_type": "code",
   "execution_count": 2,
   "id": "8160d423",
   "metadata": {},
   "outputs": [
    {
     "name": "stdout",
     "output_type": "stream",
     "text": [
      "enter the number1  5\n",
      "enter the number2  10\n",
      "True\n"
     ]
    }
   ],
   "source": [
    "num1=int(input(\"enter the number1  \"))\n",
    "num2=int(input(\"enter the number2  \"))\n",
    "sum=num1+num2\n",
    "if num1>=10 or num2>=10 or sum>=10 :\n",
    "    print(True)\n",
    "else:\n",
    "    print(False)\n",
    "    "
   ]
  },
  {
   "cell_type": "code",
   "execution_count": 3,
   "id": "5a77ae3a",
   "metadata": {},
   "outputs": [
    {
     "name": "stdout",
     "output_type": "stream",
     "text": [
      "enter the number1  2\n",
      "enter the number2  2\n",
      "False\n"
     ]
    }
   ],
   "source": [
    "num1=int(input(\"enter the number1  \"))\n",
    "num2=int(input(\"enter the number2  \"))\n",
    "sum=num1+num2\n",
    "if num1>=10 or num2>=10 or sum>=10 :\n",
    "    print(True)\n",
    "else:\n",
    "    print(False)\n",
    "    "
   ]
  },
  {
   "cell_type": "code",
   "execution_count": null,
   "id": "33d4f6c2",
   "metadata": {},
   "outputs": [],
   "source": []
  },
  {
   "cell_type": "markdown",
   "id": "65cdc138",
   "metadata": {},
   "source": [
    "# 13.write a python program that accepts three inputs x,y and z print True if x*y>z  otherwise False"
   ]
  },
  {
   "cell_type": "code",
   "execution_count": 1,
   "id": "5ee2e6dc",
   "metadata": {},
   "outputs": [
    {
     "name": "stdout",
     "output_type": "stream",
     "text": [
      "enter the x number 5\n",
      "enter the y number 2\n",
      "enter the z number 3\n",
      "True\n"
     ]
    }
   ],
   "source": [
    "x=int(input(\"enter the x number \"))\n",
    "y=int(input(\"enter the y number \"))\n",
    "z=int(input(\"enter the z number \"))\n",
    "if x*y>z:\n",
    "    print(True)\n",
    "else:\n",
    "    print(False)"
   ]
  },
  {
   "cell_type": "code",
   "execution_count": 2,
   "id": "b3d930dc",
   "metadata": {},
   "outputs": [
    {
     "name": "stdout",
     "output_type": "stream",
     "text": [
      "enter the x number 5\n",
      "enter the y number 5\n",
      "enter the z number 25\n",
      "False\n"
     ]
    }
   ],
   "source": [
    "x=int(input(\"enter the x number \"))\n",
    "y=int(input(\"enter the y number \"))\n",
    "z=int(input(\"enter the z number \"))\n",
    "if x*y>z:\n",
    "    print(True)\n",
    "else:\n",
    "    print(False)"
   ]
  },
  {
   "cell_type": "code",
   "execution_count": null,
   "id": "1e30df57",
   "metadata": {},
   "outputs": [],
   "source": []
  },
  {
   "cell_type": "markdown",
   "id": "9957898d",
   "metadata": {},
   "source": [
    "# 14.write a python program that accepts two strings inputs return True depending on whether the total number of characters in the first string is equal to the total number of characters in the second string"
   ]
  },
  {
   "cell_type": "code",
   "execution_count": 1,
   "id": "11956c34",
   "metadata": {},
   "outputs": [
    {
     "name": "stdout",
     "output_type": "stream",
     "text": [
      "enter the string  pavan\n",
      "enter the string  pavan\n",
      "True\n"
     ]
    }
   ],
   "source": [
    "string1=input(\"enter the string  \")\n",
    "string2=input(\"enter the string  \")\n",
    "if len(string1)==len(string2):\n",
    "    print(True)\n",
    "else:\n",
    "    print(False)"
   ]
  },
  {
   "cell_type": "code",
   "execution_count": 2,
   "id": "1fa3c471",
   "metadata": {},
   "outputs": [
    {
     "name": "stdout",
     "output_type": "stream",
     "text": [
      "enter the string  pavan\n",
      "enter the string  kalyan\n",
      "False\n"
     ]
    }
   ],
   "source": [
    "string1=input(\"enter the string  \")\n",
    "string2=input(\"enter the string  \")\n",
    "if len(string1)==len(string2):\n",
    "    print(True)\n",
    "else:\n",
    "    print(False)"
   ]
  },
  {
   "cell_type": "code",
   "execution_count": null,
   "id": "b88764ee",
   "metadata": {},
   "outputs": [],
   "source": []
  },
  {
   "cell_type": "markdown",
   "id": "c3aa0f69",
   "metadata": {},
   "source": [
    "# 15.write a python program that takes a string input, we'll say that the front is the first three charcters of the string.if the string length  is less than three characters, the front is whatever is three. return a new string, which is three copies of the front"
   ]
  },
  {
   "cell_type": "code",
   "execution_count": 4,
   "id": "3c5fb2a6",
   "metadata": {},
   "outputs": [
    {
     "name": "stdout",
     "output_type": "stream",
     "text": [
      "enter a string pavan\n",
      "pavpavpav\n"
     ]
    }
   ],
   "source": [
    "string=input(\"enter a string \")\n",
    "if len(string)<3:\n",
    "    print(string)\n",
    "else:\n",
    "    print(string[0:3]*3)"
   ]
  },
  {
   "cell_type": "code",
   "execution_count": 6,
   "id": "d2900f40",
   "metadata": {},
   "outputs": [
    {
     "name": "stdout",
     "output_type": "stream",
     "text": [
      "enter a string on\n",
      "on\n"
     ]
    }
   ],
   "source": [
    "string=input(\"enter a string \")\n",
    "if len(string)<3:\n",
    "    print(string)\n",
    "else:\n",
    "    print(string[0:3]*3)"
   ]
  },
  {
   "cell_type": "code",
   "execution_count": null,
   "id": "faf86af8",
   "metadata": {},
   "outputs": [],
   "source": []
  },
  {
   "cell_type": "markdown",
   "id": "bea5ed95",
   "metadata": {},
   "source": [
    "# 16. write a python program that takes in word and determines whether or not it is plural.A plural word is one that ends in \"s\""
   ]
  },
  {
   "cell_type": "code",
   "execution_count": 8,
   "id": "ea6734b4",
   "metadata": {},
   "outputs": [
    {
     "name": "stdout",
     "output_type": "stream",
     "text": [
      "enter a stringstrings\n",
      "plural\n"
     ]
    }
   ],
   "source": [
    "string=input(\"enter a string\")\n",
    "if string[-1]==\"s\":\n",
    "    print(\"plural\")\n",
    "else:\n",
    "    print(\"not a plural\")"
   ]
  },
  {
   "cell_type": "code",
   "execution_count": 9,
   "id": "b3dbef94",
   "metadata": {},
   "outputs": [
    {
     "name": "stdout",
     "output_type": "stream",
     "text": [
      "enter a stringpython\n",
      "not a plural\n"
     ]
    }
   ],
   "source": [
    "string=input(\"enter a string\")\n",
    "if string[-1]==\"s\":\n",
    "    print(\"plural\")\n",
    "else:\n",
    "    print(\"not a plural\")"
   ]
  },
  {
   "cell_type": "code",
   "execution_count": null,
   "id": "76936e90",
   "metadata": {},
   "outputs": [],
   "source": []
  },
  {
   "cell_type": "markdown",
   "id": "98d4f057",
   "metadata": {},
   "source": [
    "# 17. A bartender is writing a simple program to determine whether he should serve drinks to someone. He only serves drink to people 18 and older and when he's not on break(True means break and False means not a break time). given the person's age, and whether break time is in session, create a python program which prints whether he should serve drinks or not"
   ]
  },
  {
   "cell_type": "code",
   "execution_count": 11,
   "id": "6349d7c7",
   "metadata": {},
   "outputs": [
    {
     "name": "stdout",
     "output_type": "stream",
     "text": [
      "enter the age of the person 17\n",
      "whether the server is in break  yes\n",
      "True\n"
     ]
    }
   ],
   "source": [
    "age=int(input(\"enter the age of the person \"))\n",
    "server=input(\"whether the server is in break  \")\n",
    "if age>18:\n",
    "    print(\"service available\")\n",
    "elif server==\"yes\":\n",
    "    print(True)\n",
    "else:\n",
    "    print(\"service not available\")\n",
    "    "
   ]
  },
  {
   "cell_type": "code",
   "execution_count": 15,
   "id": "ea218f20",
   "metadata": {},
   "outputs": [
    {
     "name": "stdout",
     "output_type": "stream",
     "text": [
      "enter the age of the person 19\n",
      "whether the server is in break  yes\n",
      "service is available\n"
     ]
    }
   ],
   "source": [
    "age=int(input(\"enter the age of the person \"))\n",
    "server=input(\"whether the server is in break  \")\n",
    "if age>18:\n",
    "    print(\"service is available\")\n",
    "elif server==\"yes\":\n",
    "    print(True)\n",
    "else:\n",
    "    print(\"service not available\")\n",
    "    \n",
    "    "
   ]
  },
  {
   "cell_type": "code",
   "execution_count": null,
   "id": "389fb3a5",
   "metadata": {},
   "outputs": [],
   "source": []
  },
  {
   "cell_type": "markdown",
   "id": "bbe172d7",
   "metadata": {},
   "source": [
    "# 18. Manoj kumar has family and friends.Help him remind them who is who.Given a string with a name, return the relation of that person to Manoj Kumar.\n"
   ]
  },
  {
   "cell_type": "code",
   "execution_count": 2,
   "id": "cb1d97db",
   "metadata": {},
   "outputs": [
    {
     "name": "stdout",
     "output_type": "stream",
     "text": [
      "enter a person name:-  shiva\n",
      "father\n"
     ]
    }
   ],
   "source": [
    "name1=input(\"enter a person name:-  \")\n",
    "if name1==\"shiva\":\n",
    "    print(\"father\")\n",
    "elif name1==\"letha\":\n",
    "    print(\"mother\")\n",
    "elif name1==\"tarun\":\n",
    "    print(\"brother\")\n",
    "elif name1==\"kavitha\":\n",
    "    print(\"sister\")\n",
    "else:\n",
    "    print(\"not a family member\")"
   ]
  },
  {
   "cell_type": "code",
   "execution_count": 3,
   "id": "9fceadf2",
   "metadata": {},
   "outputs": [
    {
     "name": "stdout",
     "output_type": "stream",
     "text": [
      "enter a person name:-  letha\n",
      "mother\n"
     ]
    }
   ],
   "source": [
    "name1=input(\"enter a person name:-  \")\n",
    "if name1==\"shiva\":\n",
    "    print(\"father\")\n",
    "elif name1==\"letha\":\n",
    "    print(\"mother\")\n",
    "elif name1==\"tarun\":\n",
    "    print(\"brother\")\n",
    "elif name1==\"kavitha\":\n",
    "    print(\"sister\")\n",
    "else:\n",
    "    print(\"not a family member\")"
   ]
  },
  {
   "cell_type": "code",
   "execution_count": 4,
   "id": "30cec4bf",
   "metadata": {},
   "outputs": [
    {
     "name": "stdout",
     "output_type": "stream",
     "text": [
      "enter a person name:-  tarun\n",
      "brother\n"
     ]
    }
   ],
   "source": [
    "name1=input(\"enter a person name:-  \")\n",
    "if name1==\"shiva\":\n",
    "    print(\"father\")\n",
    "elif name1==\"letha\":\n",
    "    print(\"mother\")\n",
    "elif name1==\"tarun\":\n",
    "    print(\"brother\")\n",
    "elif name1==\"kavitha\":\n",
    "    print(\"sister\")\n",
    "else:\n",
    "    print(\"not a family member\")"
   ]
  },
  {
   "cell_type": "code",
   "execution_count": 5,
   "id": "d24e90e0",
   "metadata": {},
   "outputs": [
    {
     "name": "stdout",
     "output_type": "stream",
     "text": [
      "enter a person name:-  kavitha\n",
      "sister\n"
     ]
    }
   ],
   "source": [
    "name1=input(\"enter a person name:-  \")\n",
    "if name1==\"shiva\":\n",
    "    print(\"father\")\n",
    "elif name1==\"letha\":\n",
    "    print(\"mother\")\n",
    "elif name1==\"tarun\":\n",
    "    print(\"brother\")\n",
    "elif name1==\"kavitha\":\n",
    "    print(\"sister\")\n",
    "else:\n",
    "    print(\"not a family member\")"
   ]
  },
  {
   "cell_type": "code",
   "execution_count": 6,
   "id": "c2362b00",
   "metadata": {},
   "outputs": [
    {
     "name": "stdout",
     "output_type": "stream",
     "text": [
      "enter a person name:-  pavan\n",
      "not a family member\n"
     ]
    }
   ],
   "source": [
    "name1=input(\"enter a person name:-  \")\n",
    "if name1==\"shiva\":\n",
    "    print(\"father\")\n",
    "elif name1==\"letha\":\n",
    "    print(\"mother\")\n",
    "elif name1==\"tarun\":\n",
    "    print(\"brother\")\n",
    "elif name1==\"kavitha\":\n",
    "    print(\"sister\")\n",
    "else:\n",
    "    print(\"not a family member\")"
   ]
  },
  {
   "cell_type": "code",
   "execution_count": null,
   "id": "3ab5443b",
   "metadata": {},
   "outputs": [],
   "source": []
  },
  {
   "cell_type": "markdown",
   "id": "e3da4269",
   "metadata": {},
   "source": [
    "# 19.write a python program that takes a string, breaks it up and returns it with vowels first, consonants second.for any character that's not a vowel(like special characters or spaces), treat them like consonants"
   ]
  },
  {
   "cell_type": "code",
   "execution_count": 13,
   "id": "e3da349f",
   "metadata": {},
   "outputs": [
    {
     "name": "stdout",
     "output_type": "stream",
     "text": [
      "enter the stringapple\n"
     ]
    },
    {
     "ename": "SyntaxError",
     "evalue": "'return' outside function (3340762887.py, line 10)",
     "output_type": "error",
     "traceback": [
      "\u001b[1;36m  Cell \u001b[1;32mIn[13], line 10\u001b[1;36m\u001b[0m\n\u001b[1;33m    return string[consonents]\u001b[0m\n\u001b[1;37m    ^\u001b[0m\n\u001b[1;31mSyntaxError\u001b[0m\u001b[1;31m:\u001b[0m 'return' outside function\n"
     ]
    }
   ],
   "source": [
    "string=input(\"enter the string\")\n",
    "consonents=\"\"\n",
    "count=\"\"\n",
    "for y in len(string):\n",
    "    if string[count]==\"a\" or string[count]==\"e\" or string[count]==\"i\" or string[count]==\"o\" or string[count]==\"u\":\n",
    "        print(vowels)\n",
    "        \n",
    "    elif string[consonents]==\" \" or string[consonents]==\"@\" or string[consonents]==\"$\" or string[consonents]==\"#\" or string[consonents]==\"*\" or string[consonents]==\"#\":\n",
    "        \n",
    "        return string[consonents]"
   ]
  },
  {
   "cell_type": "code",
   "execution_count": null,
   "id": "264a13ba",
   "metadata": {},
   "outputs": [],
   "source": []
  },
  {
   "cell_type": "markdown",
   "id": "04c360fc",
   "metadata": {},
   "source": [
    "# 20. create a dynamic calculator which asks for numbers and operators and return the answers"
   ]
  },
  {
   "cell_type": "code",
   "execution_count": 18,
   "id": "6a052043",
   "metadata": {},
   "outputs": [
    {
     "name": "stdout",
     "output_type": "stream",
     "text": [
      "Type first number:-   5\n",
      "Type any of this +,-,*,/,%,**:-   *\n",
      "Type second numbe:-   5\n",
      "Answer is 25\n"
     ]
    }
   ],
   "source": [
    "num1=int(input(\"Type first number:-   \"))\n",
    "symbol=input(\"Type any of this +,-,*,/,%,**:-   \")\n",
    "num2=int(input(\"Type second numbe:-   \"))\n",
    "if symbol==\"+\":\n",
    "    print(\"Answer is {}\".format(num1+num2))\n",
    "elif symbol==\"-\":\n",
    "    print(\"Answer is {}\".format(num1-num2))\n",
    "elif symbol==\"*\":\n",
    "    print(\"Answer is {}\".format(num1*num2))\n",
    "elif symbol==\"/\":\n",
    "    print(\"Answer is {}\".format(num1/num2))\n",
    "elif symbol==\"%\":\n",
    "    print(\"Answer is {}\".format(num1%num2))\n",
    "elif symbol==\"**\":\n",
    "    print(\"Answer is {}\".format(num1**num2))\n",
    "else:\n",
    "    print(\"you entered a wrong inputs\")"
   ]
  },
  {
   "cell_type": "code",
   "execution_count": null,
   "id": "f6f1e2b5",
   "metadata": {},
   "outputs": [],
   "source": []
  }
 ],
 "metadata": {
  "kernelspec": {
   "display_name": "Python 3 (ipykernel)",
   "language": "python",
   "name": "python3"
  },
  "language_info": {
   "codemirror_mode": {
    "name": "ipython",
    "version": 3
   },
   "file_extension": ".py",
   "mimetype": "text/x-python",
   "name": "python",
   "nbconvert_exporter": "python",
   "pygments_lexer": "ipython3",
   "version": "3.11.3"
  }
 },
 "nbformat": 4,
 "nbformat_minor": 5
}
