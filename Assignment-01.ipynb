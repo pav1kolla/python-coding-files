{
 "cells": [
  {
   "cell_type": "code",
   "execution_count": 1,
   "id": "bf17d3dc",
   "metadata": {},
   "outputs": [],
   "source": [
    "#1 Write a python program to convert a string to lower case"
   ]
  },
  {
   "cell_type": "code",
   "execution_count": 2,
   "id": "ba68640d",
   "metadata": {},
   "outputs": [
    {
     "data": {
      "text/plain": [
       "'assignment'"
      ]
     },
     "execution_count": 2,
     "metadata": {},
     "output_type": "execute_result"
    }
   ],
   "source": [
    "x=\"ASSIGNMENT\"\n",
    "x.lower()"
   ]
  },
  {
   "cell_type": "code",
   "execution_count": 3,
   "id": "ee84fdd9",
   "metadata": {},
   "outputs": [],
   "source": [
    "#2 Write a python program to convert only odd indexed characters to lower case"
   ]
  },
  {
   "cell_type": "code",
   "execution_count": 6,
   "id": "ef6d6f54",
   "metadata": {},
   "outputs": [
    {
     "data": {
      "text/plain": [
       "'PyThOn'"
      ]
     },
     "execution_count": 6,
     "metadata": {},
     "output_type": "execute_result"
    }
   ],
   "source": [
    "#   1 3 5\n",
    "x=\"PYTHON\"\n",
    "x[0]+x[1].lower()+x[2]+x[3].lower()+x[4]+x[5].lower()\n"
   ]
  },
  {
   "cell_type": "code",
   "execution_count": 7,
   "id": "58b28dff",
   "metadata": {},
   "outputs": [],
   "source": [
    "#3 Write a python program to convert only even indexed characters to lower case"
   ]
  },
  {
   "cell_type": "code",
   "execution_count": 12,
   "id": "7bb15078",
   "metadata": {},
   "outputs": [
    {
     "data": {
      "text/plain": [
       "'pYtHoN'"
      ]
     },
     "execution_count": 12,
     "metadata": {},
     "output_type": "execute_result"
    }
   ],
   "source": [
    "x=\"PYTHON\"\n",
    "x[0].lower()+x[1]+x[2].lower()+x[3]+x[4].lower()+x[5]"
   ]
  },
  {
   "cell_type": "code",
   "execution_count": 13,
   "id": "cb9cc9ea",
   "metadata": {},
   "outputs": [],
   "source": [
    "#4 Write a python program to convert only odd indexed characters to upper case"
   ]
  },
  {
   "cell_type": "code",
   "execution_count": 14,
   "id": "d6c29d1b",
   "metadata": {},
   "outputs": [
    {
     "data": {
      "text/plain": [
       "'pYtHoN'"
      ]
     },
     "execution_count": 14,
     "metadata": {},
     "output_type": "execute_result"
    }
   ],
   "source": [
    "x=\"python\"\n",
    "x[0]+x[1].upper()+x[2]+x[3].upper()+x[4]+x[5].upper()"
   ]
  },
  {
   "cell_type": "code",
   "execution_count": 15,
   "id": "d25dfd46",
   "metadata": {},
   "outputs": [],
   "source": [
    "#5 Write a python program to convert only even indexed characters to upper case"
   ]
  },
  {
   "cell_type": "code",
   "execution_count": 16,
   "id": "5ba1bed8",
   "metadata": {},
   "outputs": [
    {
     "data": {
      "text/plain": [
       "'PyThOn'"
      ]
     },
     "execution_count": 16,
     "metadata": {},
     "output_type": "execute_result"
    }
   ],
   "source": [
    "x=\"python\"\n",
    "x[0].upper()+x[1]+x[2].upper()+x[3]+x[4].upper()+x[5]"
   ]
  },
  {
   "cell_type": "code",
   "execution_count": 17,
   "id": "8032ebd1",
   "metadata": {},
   "outputs": [],
   "source": [
    "#6 Write a python program where you have different variable which contains your name ,sex,age, phone no ,fathers name and mothers name.And by using this variable create avariable named bio-data where you will use allthis variable"
   ]
  },
  {
   "cell_type": "code",
   "execution_count": 19,
   "id": "80ac0f9c",
   "metadata": {},
   "outputs": [
    {
     "data": {
      "text/plain": [
       "'my name is pavan kalyan, my gender is male, my age is 23, my phn_num is 1239830921, my father_name is malleswara rao, my mother_name is vani'"
      ]
     },
     "execution_count": 19,
     "metadata": {},
     "output_type": "execute_result"
    }
   ],
   "source": [
    "name=\"pavan kalyan\"\n",
    "gender =\"male\"\n",
    "age=23\n",
    "phn_num=1239830921\n",
    "father_name = \"malleswara rao\"\n",
    "mother_name=\"vani\"\n",
    "\"my name is {}, my gender is {}, my age is {}, my phn_num is {}, my father_name is {}, my mother_name is {}\".format(name,gender,age,phn_num,father_name,mother_name)"
   ]
  },
  {
   "cell_type": "code",
   "execution_count": 20,
   "id": "2caee7d9",
   "metadata": {},
   "outputs": [],
   "source": [
    "#7 Write a python program to count how many times “@” occurred"
   ]
  },
  {
   "cell_type": "code",
   "execution_count": 21,
   "id": "1b23c567",
   "metadata": {},
   "outputs": [
    {
     "data": {
      "text/plain": [
       "4"
      ]
     },
     "execution_count": 21,
     "metadata": {},
     "output_type": "execute_result"
    }
   ],
   "source": [
    "x=\"@pavan@kalyan@kolla@\"\n",
    "x.count(\"@\")"
   ]
  },
  {
   "cell_type": "code",
   "execution_count": 22,
   "id": "3d91c7c9",
   "metadata": {},
   "outputs": [],
   "source": [
    "#8 Write a python program to get only names from the string "
   ]
  },
  {
   "cell_type": "code",
   "execution_count": 48,
   "id": "5b1081d1",
   "metadata": {},
   "outputs": [
    {
     "name": "stdout",
     "output_type": "stream",
     "text": [
      "name1 name2 name3\n"
     ]
    }
   ],
   "source": [
    "x=\"name1.@gmail.com,name2.@gmail.com,name 3.@gmail.com\"\n",
    "x1=\"name1.@gmail.com\"\n",
    "x2=\"name2.@gmail.com\"\n",
    "x3=\"name3.@gmail.com\"\n",
    "y1=x1.replace(\"name1.@gmail.com\",\"name1\")\n",
    "y2=x2.replace(\"name2.@gmail.com\",\"name2\")\n",
    "y3=x3.replace(\"name3.@gmail.com\",\"name3\")\n",
    "print(y1,y2,y3)"
   ]
  },
  {
   "cell_type": "code",
   "execution_count": 30,
   "id": "f78f466a",
   "metadata": {},
   "outputs": [],
   "source": [
    "#9 Given a string of odd length greater that 9, return a new string made of the middle three characters of a given String"
   ]
  },
  {
   "cell_type": "code",
   "execution_count": 33,
   "id": "cf6375c2",
   "metadata": {},
   "outputs": [
    {
     "data": {
      "text/plain": [
       "'mei'"
      ]
     },
     "execution_count": 33,
     "metadata": {},
     "output_type": "execute_result"
    }
   ],
   "source": [
    "x=\"mynameissan\"\n",
    "x[4:7]"
   ]
  },
  {
   "cell_type": "code",
   "execution_count": 34,
   "id": "9bc69aee",
   "metadata": {},
   "outputs": [],
   "source": [
    "#10 Write a python program to insert a 2 string in the middle of 1 string"
   ]
  },
  {
   "cell_type": "code",
   "execution_count": 37,
   "id": "b9cd6857",
   "metadata": {},
   "outputs": [
    {
     "data": {
      "text/plain": [
       "'msayn'"
      ]
     },
     "execution_count": 37,
     "metadata": {},
     "output_type": "execute_result"
    }
   ],
   "source": [
    "str1=\"myn\"\n",
    "str2=\"sa\"\n",
    "str1[0:1]+str2+str1[1:]"
   ]
  },
  {
   "cell_type": "code",
   "execution_count": 38,
   "id": "40a74f92",
   "metadata": {},
   "outputs": [],
   "source": [
    "#11 Write a program to remove vowels from the entire alphabets"
   ]
  },
  {
   "cell_type": "code",
   "execution_count": 46,
   "id": "7b55a24a",
   "metadata": {},
   "outputs": [
    {
     "data": {
      "text/plain": [
       "'bcdfghjklmnpqrstvwxyz'"
      ]
     },
     "execution_count": 46,
     "metadata": {},
     "output_type": "execute_result"
    }
   ],
   "source": [
    "#  0123456789\n",
    "x=\"abcdefghijklmnopqrstuvwxyz\"\n",
    "x[1:4]+x[5:8]+x[9:14]+x[15:20]+x[21:]"
   ]
  },
  {
   "cell_type": "code",
   "execution_count": 44,
   "id": "d6c5d77a",
   "metadata": {},
   "outputs": [
    {
     "data": {
      "text/plain": [
       "'abcdefghijklmnopqrstuvwxyz'"
      ]
     },
     "execution_count": 44,
     "metadata": {},
     "output_type": "execute_result"
    }
   ],
   "source": [
    "x"
   ]
  },
  {
   "cell_type": "code",
   "execution_count": null,
   "id": "dbec7464",
   "metadata": {},
   "outputs": [],
   "source": []
  }
 ],
 "metadata": {
  "kernelspec": {
   "display_name": "Python 3 (ipykernel)",
   "language": "python",
   "name": "python3"
  },
  "language_info": {
   "codemirror_mode": {
    "name": "ipython",
    "version": 3
   },
   "file_extension": ".py",
   "mimetype": "text/x-python",
   "name": "python",
   "nbconvert_exporter": "python",
   "pygments_lexer": "ipython3",
   "version": "3.11.3"
  }
 },
 "nbformat": 4,
 "nbformat_minor": 5
}
